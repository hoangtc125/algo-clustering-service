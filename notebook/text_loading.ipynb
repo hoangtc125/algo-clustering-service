{
 "cells": [
  {
   "cell_type": "code",
   "execution_count": null,
   "metadata": {},
   "outputs": [],
   "source": [
    "import pandas as pd\n",
    "import numpy as np\n",
    "from sklearn.preprocessing import OneHotEncoder"
   ]
  },
  {
   "cell_type": "code",
   "execution_count": null,
   "metadata": {},
   "outputs": [],
   "source": [
    "excel_data_df = pd.read_excel(r'../data/data.xlsx')"
   ]
  },
  {
   "cell_type": "code",
   "execution_count": null,
   "metadata": {},
   "outputs": [],
   "source": [
    "excel_data_df['1. Bạn tên là '].tolist() # column data\n",
    "for idx, header in enumerate(excel_data_df.columns.tolist()):\n",
    "    print(idx, header)"
   ]
  },
  {
   "cell_type": "code",
   "execution_count": null,
   "metadata": {},
   "outputs": [],
   "source": [
    "excel_data_df.fillna(\"\", inplace = True)"
   ]
  },
  {
   "cell_type": "code",
   "execution_count": null,
   "metadata": {},
   "outputs": [],
   "source": [
    "# Tạo các data theo nhóm cùng độ tương đồng để so sánh khoảng cách euclid sau khi vertor hóa\n",
    "with open('../data/data.txt', 'r', encoding='utf-8') as f:\n",
    "    data = f.readlines()"
   ]
  },
  {
   "cell_type": "code",
   "execution_count": null,
   "metadata": {},
   "outputs": [],
   "source": [
    "import sys; sys.path.insert(0, '..')\n",
    "from app.loader import loader\n",
    "from app.ssmc_fcm import SSMC_FCM"
   ]
  },
  {
   "cell_type": "code",
   "execution_count": 35,
   "metadata": {},
   "outputs": [
    {
     "name": "stdout",
     "output_type": "stream",
     "text": [
      "0 vc\n",
      "1 a\n",
      "2 \n",
      "3 https://docs.google.com/spreadsheets/d/13UPSeAAnzT79Ld4Gq34XxBUJX2_4Icor/edit?usp=sharing&ouid=100736643351775585814&rtpof=true&sd=true\n",
      "4 Thành viên giúp b trong lop cntt\n",
      "5 https://docs.google.com/spreadsheets/d/1oaqyjwYteqj-yqt9GS-8cLr315GjYANgFCuHT9Rb8nA/edit?usp=sharing\n",
      "6 Đã từng cùng một nhóm bạn thành lập câu lạc bộ tổ chức ôn thi vào 10 cũng như dạy thêm cho các học sinh cấp 2, hợp tác mượn cơ sở của một trung tâm Tiếng Anh, hỗ trợ quảng bá trung tâm với nhiều học sinh hơn.\n",
      "7 Mình chưa từng viết Plan/MasterPlan nhưng sẵn sàng học hỏi thêm và cải thiện ở mảng này ạ. Mình từng làm nhóm trưởng trong các bài tập nhóm khá nhiều và đã từng lên các timeline hoạt động và nhóm hoạt động khá hiệu quả nên cũng có kinh nghiệm trong việc lập kế hoạch. Hi vọng mình có thể tham gia SINNO và học được việc lập plan một cách chuyên nghiệp và hiệu quả hơn.\n",
      "8 em chưa có ạ\n",
      "9 các plan mình đã tham gia không lưu dưới dạng bản mềm và mình cũng không phải là chủ các plan đó nên kiếm lại rất khó, có thể coi mình như trang giấy trắng cũng được :v\n",
      "10 Em chưa có tham gia các Plan/MasterPlan về CNTT. Em đúng nghĩa là chưa biết tí nào về CNTT, vì thế em rất muốn vào CLB để học tập và học hỏi các tiền bối đi trước. Em sẽ luôn cố gắng phấn đấu và học hỏi để không bị các anh chị phiền lòng về tiến độ công việc.\n",
      "11 chưa có ạ\n",
      "12 \n",
      "13 \n",
      "14 Do không thể tìm lại toàn bộ file ghi plan nên em xin phép gửi link slide buổi hoạt động hôm đó ạ : https://husteduvn-my.sharepoint.com/:p:/g/personal/minh_dq210579_sis_hust_edu_vn/EY7B3D_ROJ5EmiXlxbREQX0BbWgh82GoEQpEttCi2Nz82Q?e=FZGJs7\n",
      "15 Mình thường quản lý công việc nhóm thông qua excel outlook. Mình xin phép chỉ gửi link demo của một sự kiện mà bản thân từng lên kế hoạch:\n",
      "https://husteduvn-my.sharepoint.com/:x:/g/personal/binh_th190094_sis_hust_edu_vn/EThTLVQksFJMgv0Ii7PV-_YBBMi2hT6Ppvh2-BxY4L4tMA?e=Swz8D1\n",
      "16 \n",
      "17 \n",
      "18 \n",
      "19 https://docs.google.com/spreadsheets/d/1HpfiL6rGRgefBp5QG7xygIQpRzH9n3Bj2i3H9LJvcKs/edit?usp=sharing\n",
      "20 \n",
      "21 Hiện tại thì mình chưa có plan nào ạ\n",
      "22 https://drive.google.com/drive/folders/1NCvALtNdistIVpz8hPqf1udnm__DE1YP?usp=sharing\n",
      "23 \n",
      "24 \n",
      "25 Gửi các bạn link drive có Plan của mình: https://drive.google.com/drive/folders/1MtCvGoLvPMxrMap2WfGxd24bSqspThok?usp=sharing\n",
      "26 https://docs.google.com/document/d/1fecqvawRlEqWj6_76-42HqEGLHeOqjlwtxxp9rMzjPM/edit?usp=sharing\n",
      "27 mình chưa gặp ai là master plan hoặc giờ mình không nhớ ra\n",
      "28 https://docs.google.com/document/d/1xPUr86G_tLkjhZSr3k8LpAQza67E-EagrT-qyWDeRzc/edit?usp=sharing\n",
      "29 https://drive.google.com/drive/folders/1urYYgrRu8574fa5fZC-W30TTXKyb_Fbr?usp=sharing\n"
     ]
    },
    {
     "data": {
      "text/plain": [
       "(30, 768)"
      ]
     },
     "execution_count": 35,
     "metadata": {},
     "output_type": "execute_result"
    }
   ],
   "source": [
    "chuyenmon_df = excel_data_df[(excel_data_df[\"11. Bạn mong muốn tham gia vào ban\"] == \"Nhân sự\")]\n",
    "data = chuyenmon_df.iloc[:, 21].tolist()\n",
    "for idx, point in enumerate(data):\n",
    "    print(idx, point)\n",
    "dataset = loader.feature_engineering(data)\n",
    "dataset.shape"
   ]
  },
  {
   "cell_type": "code",
   "execution_count": 36,
   "metadata": {},
   "outputs": [
    {
     "name": "stdout",
     "output_type": "stream",
     "text": [
      "\n",
      "[]\n",
      "\n",
      "[0, 4, 6, 7, 9, 10, 21, 27]\n",
      "0 vc\n",
      "4 Thành viên giúp b trong lop cntt\n",
      "6 Đã từng cùng một nhóm bạn thành lập câu lạc bộ tổ chức ôn thi vào 10 cũng như dạy thêm cho các học sinh cấp 2, hợp tác mượn cơ sở của một trung tâm Tiếng Anh, hỗ trợ quảng bá trung tâm với nhiều học sinh hơn.\n",
      "7 Mình chưa từng viết Plan/MasterPlan nhưng sẵn sàng học hỏi thêm và cải thiện ở mảng này ạ. Mình từng làm nhóm trưởng trong các bài tập nhóm khá nhiều và đã từng lên các timeline hoạt động và nhóm hoạt động khá hiệu quả nên cũng có kinh nghiệm trong việc lập kế hoạch. Hi vọng mình có thể tham gia SINNO và học được việc lập plan một cách chuyên nghiệp và hiệu quả hơn.\n",
      "9 các plan mình đã tham gia không lưu dưới dạng bản mềm và mình cũng không phải là chủ các plan đó nên kiếm lại rất khó, có thể coi mình như trang giấy trắng cũng được :v\n",
      "10 Em chưa có tham gia các Plan/MasterPlan về CNTT. Em đúng nghĩa là chưa biết tí nào về CNTT, vì thế em rất muốn vào CLB để học tập và học hỏi các tiền bối đi trước. Em sẽ luôn cố gắng phấn đấu và học hỏi để không bị các anh chị phiền lòng về tiến độ công việc.\n",
      "21 Hiện tại thì mình chưa có plan nào ạ\n",
      "27 mình chưa gặp ai là master plan hoặc giờ mình không nhớ ra\n",
      "\n",
      "[]\n",
      "\n",
      "[1, 2, 8, 11, 12, 13, 16, 17, 18, 20, 23, 24]\n",
      "1 a\n",
      "2 \n",
      "8 em chưa có ạ\n",
      "11 chưa có ạ\n",
      "12 \n",
      "13 \n",
      "16 \n",
      "17 \n",
      "18 \n",
      "20 \n",
      "23 \n",
      "24 \n",
      "\n",
      "[3, 5, 14, 15, 19, 22, 25, 26, 28, 29]\n",
      "3 https://docs.google.com/spreadsheets/d/13UPSeAAnzT79Ld4Gq34XxBUJX2_4Icor/edit?usp=sharing&ouid=100736643351775585814&rtpof=true&sd=true\n",
      "5 https://docs.google.com/spreadsheets/d/1oaqyjwYteqj-yqt9GS-8cLr315GjYANgFCuHT9Rb8nA/edit?usp=sharing\n",
      "14 Do không thể tìm lại toàn bộ file ghi plan nên em xin phép gửi link slide buổi hoạt động hôm đó ạ : https://husteduvn-my.sharepoint.com/:p:/g/personal/minh_dq210579_sis_hust_edu_vn/EY7B3D_ROJ5EmiXlxbREQX0BbWgh82GoEQpEttCi2Nz82Q?e=FZGJs7\n",
      "15 Mình thường quản lý công việc nhóm thông qua excel outlook. Mình xin phép chỉ gửi link demo của một sự kiện mà bản thân từng lên kế hoạch:\n",
      "https://husteduvn-my.sharepoint.com/:x:/g/personal/binh_th190094_sis_hust_edu_vn/EThTLVQksFJMgv0Ii7PV-_YBBMi2hT6Ppvh2-BxY4L4tMA?e=Swz8D1\n",
      "19 https://docs.google.com/spreadsheets/d/1HpfiL6rGRgefBp5QG7xygIQpRzH9n3Bj2i3H9LJvcKs/edit?usp=sharing\n",
      "22 https://drive.google.com/drive/folders/1NCvALtNdistIVpz8hPqf1udnm__DE1YP?usp=sharing\n",
      "25 Gửi các bạn link drive có Plan của mình: https://drive.google.com/drive/folders/1MtCvGoLvPMxrMap2WfGxd24bSqspThok?usp=sharing\n",
      "26 https://docs.google.com/document/d/1fecqvawRlEqWj6_76-42HqEGLHeOqjlwtxxp9rMzjPM/edit?usp=sharing\n",
      "28 https://docs.google.com/document/d/1xPUr86G_tLkjhZSr3k8LpAQza67E-EagrT-qyWDeRzc/edit?usp=sharing\n",
      "29 https://drive.google.com/drive/folders/1urYYgrRu8574fa5fZC-W30TTXKyb_Fbr?usp=sharing\n"
     ]
    }
   ],
   "source": [
    "supervised_set = [\n",
    "]\n",
    "ssmc_fcm = SSMC_FCM(\n",
    "    dataset=dataset, \n",
    "    fields_len=[768] * 1,\n",
    "    fields_weight=[1],\n",
    "    n_clusters=5, \n",
    "    supervised_set=supervised_set, \n",
    ")\n",
    "ssmc_fcm.clustering()\n",
    "for cluster in ssmc_fcm.pred_labels:\n",
    "    print()\n",
    "    print(cluster)\n",
    "    for id_data in cluster:\n",
    "        print(id_data, data[id_data])"
   ]
  }
 ],
 "metadata": {
  "kernelspec": {
   "display_name": "Python 3.8.14 64-bit",
   "language": "python",
   "name": "python3"
  },
  "language_info": {
   "codemirror_mode": {
    "name": "ipython",
    "version": 3
   },
   "file_extension": ".py",
   "mimetype": "text/x-python",
   "name": "python",
   "nbconvert_exporter": "python",
   "pygments_lexer": "ipython3",
   "version": "3.8.16"
  },
  "orig_nbformat": 4,
  "vscode": {
   "interpreter": {
    "hash": "e7370f93d1d0cde622a1f8e1c04877d8463912d04d973331ad4851f04de6915a"
   }
  }
 },
 "nbformat": 4,
 "nbformat_minor": 2
}
