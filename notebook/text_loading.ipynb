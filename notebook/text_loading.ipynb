{
 "cells": [
  {
   "cell_type": "code",
   "execution_count": 118,
   "metadata": {},
   "outputs": [],
   "source": [
    "import pandas as pd\n",
    "import numpy as np\n",
    "pd.set_option('display.max_rows', None)\n",
    "# pd.set_option('display.max_columns', None)\n",
    "# pd.set_option('display.width', None)\n",
    "# pd.set_option('display.max_colwidth', None)"
   ]
  },
  {
   "cell_type": "code",
   "execution_count": 119,
   "metadata": {},
   "outputs": [],
   "source": [
    "excel_data_df = pd.ExcelFile(r'../data/egg.xlsx')\n",
    "excel_data_df = excel_data_df.parse(excel_data_df.sheet_names[0])"
   ]
  },
  {
   "cell_type": "code",
   "execution_count": 120,
   "metadata": {},
   "outputs": [],
   "source": [
    "result_df = pd.ExcelFile(r'../data/egg-result.xlsx')\n",
    "result_df = result_df.parse(result_df.sheet_names[0])\n",
    "result_set = result_df.iloc[:, 1].tolist()"
   ]
  },
  {
   "cell_type": "code",
   "execution_count": 121,
   "metadata": {},
   "outputs": [
    {
     "name": "stdout",
     "output_type": "stream",
     "text": [
      "0 Dấu thời gian\n",
      "1 Địa chỉ email\n",
      "2 Số báo danh của bạn (Sử dụng SBD đã được gửi qua email)\n",
      "3 Mục tiêu của bạn khi tham gia vào câu lạc bộ EGG? (Tối thiểu số lựa chọn để tối ưu hóa mục tiêu bạn nhé)\n",
      "4 Nếu được vào câu lạc bộ và vượt qua các khóa training, tương lai bạn muốn trở thành ai?\n",
      "5 Tại sao bạn lại chọn nguyện vọng như trên? Bạn có những thế mạnh gì tương ứng nguyện vọng đã chọn. (Câu hỏi này rất quan trọng, hãy thể hiện nhiều nhất có thể nhé)\n",
      "6 Liệt kê các thành tích nổi bật của em (nếu có)\n",
      "7 Bạn có thể dành bao nhiêu thời gian cho các hoạt động chung của câu lạc bộ?\n",
      "8 Bạn có thể dành bao nhiêu thời gian để làm bài tập trong các hoạt động training kiến thức?\n",
      "9 Bạn có kỹ năng đặc biệt nào khác không?\n",
      "10 Bạn có mong muốn chia sẻ kiến thức cho cộng đồng không? Đối với các hoạt động được chia sẻ trên fanpage EGG, nếu bạn là một thành viên câu lạc bộ, bạn sẽ cải tiến nó như thế nào để mang lại nhiều giá trị hơn cho cộng đồng IT?\n"
     ]
    }
   ],
   "source": [
    "for idx, header in enumerate(excel_data_df.columns.tolist()):\n",
    "    print(idx, header)"
   ]
  },
  {
   "cell_type": "code",
   "execution_count": 122,
   "metadata": {},
   "outputs": [],
   "source": [
    "# excel_data_df = excel_data_df[(excel_data_df[\"11. Bạn mong muốn tham gia vào ban\"] == \"Nhân sự\")]\n",
    "# excel_data_df = excel_data_df[(excel_data_df[\"11. Bạn mong muốn tham gia vào ban\"] == \"Đối ngoại\")]\n",
    "# excel_data_df = excel_data_df[(excel_data_df[\"11. Bạn mong muốn tham gia vào ban\"] == \"Chuyên môn\")]\n",
    "# excel_data_df = excel_data_df[(excel_data_df[\"11. Bạn mong muốn tham gia vào ban\"] == \"Hậu cần\")]\n",
    "# excel_data_df = excel_data_df[(excel_data_df[\"11. Bạn mong muốn tham gia vào ban\"] == \"Truyền thông\")]\n",
    "excel_data_df.reset_index(drop=True, inplace=True)\n",
    "excel_data_df.fillna(\"\", inplace = True)\n",
    "# filter = [0, 1, 5, 7, 9, 11, 14, 15, 16, 17, 18, 19, 22, 23, 24, 26, 28, 30, 31, 33, 34, 35, 36, 37, 40, 41, 43, 44, 45, 52, 53, 55, 58, 60, 61, 65, 68, 69, 74, 77, 84, 86, 87, 88, 89, 96, 97, 98, 102, 104, 106, 107, 108, 110, 111, 112, 113, 114, 116, 117, 120, 127, 129, 134, 135, 137, 138, 139, 140, 140, 142, 145, 146, 149, 152, 154, 155]\n",
    "# excel_data_df = excel_data_df.iloc[filter]\n",
    "# excel_data_df.reset_index(drop=True, inplace=True)\n",
    "# identity = list(excel_data_df.index.values)\n",
    "identity = excel_data_df.iloc[:, 1].tolist()"
   ]
  },
  {
   "cell_type": "code",
   "execution_count": 123,
   "metadata": {},
   "outputs": [],
   "source": [
    "import sys; sys.path.insert(0, '..')\n",
    "from app.loader import loader\n",
    "from app.ssmc_fcm import SSMC_FCM"
   ]
  },
  {
   "cell_type": "code",
   "execution_count": 124,
   "metadata": {},
   "outputs": [],
   "source": [
    "fields_chosen = {\n",
    "    # egg data\n",
    "    3: (loader.multilabel_binarizing, 1),\n",
    "    4: (loader.multilabel_binarizing, 1),\n",
    "    5: (loader.feature_engineering, 1),\n",
    "    6: (loader.feature_engineering, 1),\n",
    "    7: (loader.multilabel_binarizing, 1),\n",
    "    8: (loader.multilabel_binarizing, 1),\n",
    "    9: (loader.multilabel_binarizing, 1),\n",
    "    10: (loader.feature_engineering, 1),\n",
    "\n",
    "    # # nha data BCM\n",
    "    # 40: (loader.feature_engineering, 1),\n",
    "    # 43: (loader.feature_engineering, 1),\n",
    "    # 46: (loader.feature_engineering, 1),\n",
    "    # 49: (loader.feature_engineering, 1),\n",
    "    # 55: (loader.feature_engineering, 1),\n",
    "    # 58: (loader.feature_engineering, 1),\n",
    "\n",
    "    # # nha data BCT\n",
    "    # 41: (loader.feature_engineering, 1),\n",
    "    # 44: (loader.feature_engineering, 1),\n",
    "    # 47: (loader.feature_engineering, 1),\n",
    "    # 50: (loader.feature_engineering, 1),\n",
    "    # 62: (loader.feature_engineering, 1),\n",
    "    # 65: (loader.feature_engineering, 1),\n",
    "    # 68: (loader.feature_engineering, 1),\n",
    "    # 71: (loader.feature_engineering, 1),\n",
    "\n",
    "    # # nha data BDN\n",
    "    # 41: (loader.feature_engineering, 1),\n",
    "    # 44: (loader.feature_engineering, 1),\n",
    "    # 47: (loader.feature_engineering, 1),\n",
    "    # 50: (loader.feature_engineering, 1),\n",
    "    # 74: (loader.feature_engineering, 1),\n",
    "    # 77: (loader.feature_engineering, 1),\n",
    "    # 80: (loader.feature_engineering, 1),\n",
    "\n",
    "    # # sinno data nhan su\n",
    "    # 10: (loader.feature_engineering, 1),\n",
    "    # 18: (loader.feature_engineering, 1),\n",
    "    # 19: (loader.feature_engineering, 1),\n",
    "    # 20: (loader.multilabel_binarizing, 1),\n",
    "    # 21: (loader.feature_engineering, 1),\n",
    "    # 34: (loader.multilabel_binarizing, 1),\n",
    "    # 35: (loader.feature_engineering, 1),\n",
    "    # 36: (loader.feature_engineering, 1),\n",
    "    # 37: (loader.feature_engineering, 1),\n",
    "    # 38: (loader.feature_engineering, 1),\n",
    "\n",
    "    # # sinno data doi ngoai\n",
    "    # 10: (loader.feature_engineering, 1),\n",
    "    # 29: (loader.feature_engineering, 1),\n",
    "    # 30: (loader.feature_engineering, 1),\n",
    "    # 31: (loader.feature_engineering, 1),\n",
    "    # 32: (loader.feature_engineering, 1),\n",
    "    # 34: (loader.multilabel_binarizing, 1),\n",
    "    # 35: (loader.feature_engineering, 1),\n",
    "    # 36: (loader.feature_engineering, 1),\n",
    "    # 37: (loader.feature_engineering, 1),\n",
    "    # 38: (loader.feature_engineering, 1),\n",
    "\n",
    "    # # sinno data chuyen mon\n",
    "    # 10: (loader.feature_engineering, 1),\n",
    "    # 13: (loader.feature_engineering, 1),\n",
    "    # 14: (loader.feature_engineering, 1),\n",
    "    # 15: (loader.feature_engineering, 1),\n",
    "    # 16: (loader.feature_engineering, 1),\n",
    "    # 17: (loader.feature_engineering, 1),\n",
    "    # 34: (loader.multilabel_binarizing, 1),\n",
    "    # 35: (loader.feature_engineering, 1),\n",
    "    # 36: (loader.feature_engineering, 1),\n",
    "    # 37: (loader.feature_engineering, 1),\n",
    "    # 38: (loader.feature_engineering, 1),\n",
    "\n",
    "    # # sinno data hau can\n",
    "    # 10: (loader.feature_engineering, 1),\n",
    "    # 33: (loader.feature_engineering, 1),\n",
    "    # 39: (loader.feature_engineering, 1),\n",
    "    # 40: (loader.feature_engineering, 1),\n",
    "    # 34: (loader.multilabel_binarizing, 1),\n",
    "    # 35: (loader.feature_engineering, 1),\n",
    "    # 36: (loader.feature_engineering, 1),\n",
    "    # 37: (loader.feature_engineering, 1),\n",
    "    # 38: (loader.feature_engineering, 1),\n",
    "\n",
    "    # # sinno data truyen thong\n",
    "    # 10: (loader.feature_engineering, 1),\n",
    "    # 22: (loader.feature_engineering, 1),\n",
    "    # 23: (loader.feature_engineering, 1),\n",
    "    # 24: (loader.feature_engineering, 1),\n",
    "    # 25: (loader.feature_engineering, 1),\n",
    "    # 26: (loader.feature_engineering, 1),\n",
    "    # 34: (loader.multilabel_binarizing, 1),\n",
    "    # 35: (loader.feature_engineering, 1),\n",
    "    # 36: (loader.feature_engineering, 1),\n",
    "    # 37: (loader.feature_engineering, 1),\n",
    "    # 38: (loader.feature_engineering, 1),\n",
    "}"
   ]
  },
  {
   "cell_type": "code",
   "execution_count": 125,
   "metadata": {},
   "outputs": [
    {
     "name": "stdout",
     "output_type": "stream",
     "text": [
      "12.5% (0:00:00.000976)\n",
      "25.0% (0:00:00.000831)\n",
      "37.5% (0:00:10.447717)\n",
      "50.0% (0:00:06.055999)\n",
      "62.5% (0:00:00.000736)\n",
      "75.0% (0:00:00.000396)\n",
      "87.5% (0:00:00.000396)\n",
      "100.0% (0:00:08.140657)\n"
     ]
    }
   ],
   "source": [
    "from datetime import datetime\n",
    "vectors = {}\n",
    "for id_field, config in fields_chosen.items():\n",
    "    start = datetime.now()\n",
    "    func = config[0]\n",
    "    raw_data = excel_data_df.iloc[:, id_field].tolist()\n",
    "    data = func(raw_data)\n",
    "    vectors[id_field] = data\n",
    "    print(f\"{round(100 * (list(fields_chosen).index(id_field) + 1) / len(fields_chosen), 2)}% ({datetime.now() - start})\")"
   ]
  },
  {
   "cell_type": "code",
   "execution_count": 126,
   "metadata": {},
   "outputs": [
    {
     "data": {
      "text/plain": [
       "((158, 2461), [89, 7, 768, 768, 10, 4, 47, 768], [1, 1, 1, 1, 1, 1, 1, 1])"
      ]
     },
     "execution_count": 126,
     "metadata": {},
     "output_type": "execute_result"
    }
   ],
   "source": [
    "cluster_fields = list(fields_chosen.keys())\n",
    "dataset = None\n",
    "data_field_len = []\n",
    "data_field_weight = []\n",
    "for idx, id_field in enumerate(cluster_fields):\n",
    "    data = np.array(vectors[id_field])\n",
    "    dataset = data if idx == 0 else np.hstack((dataset, data))\n",
    "    data_field_len.append(data.shape[1])\n",
    "    data_field_weight.append(fields_chosen[id_field][1])\n",
    "dataset.shape, data_field_len, data_field_weight"
   ]
  },
  {
   "cell_type": "code",
   "execution_count": 127,
   "metadata": {},
   "outputs": [
    {
     "name": "stdout",
     "output_type": "stream",
     "text": [
      "Supervised percentage: 0.0% (0:158)\n",
      "Cluster members: \n",
      "[]\n",
      "['leducdientin92018@gmail.com', 'trinhdung01000100@gmail.com', 'tuannguyen2004zx@gmail.com', 'nphuochai4@gmail.com', 'thongphil18@gmail.com', 'lanphuong251064@gmail.com', 'chientrungha2004@gmail.com', 'nguyenbaolinh1925@hotmail.com', 'hoan8e1@gmail.com', 'kimduyminh2124@gmail.com', 'nguyentuandatk16a@gmail.com', 'huypham261203@gmail.com', 'nguyentatcuong251204@gmail.com', 'buivankienvx@gmail.com', 'nhhoang12122004@gmail.com', 'quannm8904@gmail.com', 'damtoan321@gmail.com', 'mcminhduc2004@gmail.com', 'vietbui2k3@gmail.com', 'phamquanghuy060304@gmail.com', 'vuduc477a6@gmail.com', 'hieu04022004@gmail.com', 'nguyenbindeptrai123@gmail.com', 'nguyenvanhung13122001@gmail.com', 'vucuong6204nb@gmail.com', 'huyhoang2001037a1@gmail.com', 'thanh8cute@gmail.com', 'm.nghia10802k4@gmail.com', 'vuloc34hd@gmail.com', 'hoangtuathat@gmail.com', 'Kimbaobao1223@gmail.com', 'gianghoangtruong1111@gmail.com', 'Bao.HB226015@sis.hust.edu.vn', 'phamnguyenphu14@gmail.com', 'tuanlaimanh2004@gmail.com', 'huyquangnguyen38@gmail.com', 'justinvu3689@gmail.com', 'hoangoanh15042004@gmail.com', 'hungtran30112004@gmail.com', 'an.pt225245@sis.hust.edu.vn', 'sondeptrai688@gmail.com', 'trantiendat083@gmail.com', 'haovunguyen2004@gmail.com', 'lamtt262004@gmail.com', 'anhducnguyensy06@gmail.com', 'quanghieptong@gmail.com', 'Hung.NM224997@sis.hust.edu.vn', 'vuducthanghg@gmail.com', 'fuc25032004@gmail.com', 'duchung04st@gmail.com', 'trungnguyenthanh.2304@gmail.com', 'lebkp04@gmail.com', 'hoanmanh04@gmail.com', 'anh.mh213652@sis.hust.edu.vn', 'ducanhcttp@gmail.com', 'tranducmanh23102004@gmail.com', 'phamngocminh1230@gmail.com', 'tienluc1972003@gmail.com', 'dev.minhdt@gmail.com', 'vinh12112004@gmail.com', 'pqh0612@gmail.com', 'Nam.BV225211@sis.hust.edu.vn', 'talehieu2004@gmail.com', 'chutrunganh04@gmail.com', 'nguyenvankhoi23062004@gmail.com', 'Quang0805kk@gmail.com', 'huynambka@gmail.com', 'quang177123@gmail.com', 'vanvietn824@gmail.com', 'tuanhai1304@gmail.com', 'hoanganh692004@gmail.com', 'tuanhoangtc@gmail.com', 'Thanh.PD225158@sis.hust.edu.vn', 'viethoah928@gmail.com', 'nkt10102004@gmail.com', 'son.nguyenhung.lequydon@gmail.com', 'vubaminhdang20072004@gmail.com', 'nguyenanhhao2506@gmail.com', 'Tung.LS222082@sis.hust.edu.vn', 'tronghien03@gmail.com']\n",
      "['thanh.hh204787@sis.hust.edu.vn', 'minhhaizdr@gmail.com', 'thang.dv224899@sis.hust.edu.vn', 'kien2312@gmail.com', 'thanh.hq225090@sis.hust.edu.vn', 'shiraishi2612@gmail.com', '01203059874btn@gmail.com', 'truongngocmai3@gmail.com', 'dangduckhai44@gmail.com', 'nguyenngocyen.nny24@gmail.com', 'vutienannguyen1210@gmail.com', 'anhminhtranle1106@gmail.com', 'Duc.NT215692@sis.hust.edu.vn', 'dangvietchinh694@gmail.com', 'lechianh04@gmail.com', 'thithanhtamtran2004@gmail.com', 'trungtrinhquang.std23@gmail.com', 'duytan5112@gmail.com', 'maiianhh2k44@gmail.com', 'khanhtoan.forwork@gmail.com', 'pivar999@gmail.com', 'kienkaykths2@gmail.com', 'manhhungtran2004@gmail.com', 'huydimmo@gmail.com', 'thanhcong300504@gmail.com', 'baolam782004@gmail.com', 'nguyenhoangviet.hsgs@gmail.com', 'votaquangnhat1104@gmail.com', 'nttquyen041220@gmail.com', 'phong.tn225061@sis.hust.edu.vn', 'khanhlinh11104@gmail.com', 'thangdoi2004@gmail.com', 'thangdoi2004@gmail.com', 'ankhanghp2004@gmail.com', 'thanhtung050503@gmail.com']\n",
      "['kq161204@gmail.com', 'ntm.cmv@gmail.com', 'huyductran2606@gmail.com']\n",
      "['bobt3141@gmail.com', 'dung.work2408@gmail.com', 'huybla166@gmail.com', 'dvtiendat.work@gmail.com', 'quanghunglion@gmail.com', 'phamkhactiep159@gmail.com', 'Tri.HM224461@sis.hust.edu.vn', 'nam0837305039@gmail.com', 'nguyenquocbao1301@gmail.com', 'nguyennt090904@gmail.com', 'vuphuonglinh2002bg@gmail.com', 'Tuyen.NT224908@sis.hust.edu.vn', 'tiennma2k23@cvp.vn', 'nghiahh2004@gmail.com', 'vunguyet198@gmail.com', 'vietanh142004@gmail.com', 'nat0332624138@gmail.com', 'hdl243004@gmail.com', 'manhnguyen252004@gmail.com', 'hoangoanh15042004@gmail.com', 'quan.ha213639@sis.hust.edu.vn', 'nguyenhuunamhoa2004@gmail.com', 'minh.pq225743@sis.hust.edu.vn', 'trungtructrac999@gmail.com', 'Chuyen.mt213657@sis.hust.edu.vn', 'nhatminh15102004hp@gmail.com', 'vuquangdung71104@gmail.com', 'hung123ka5@gmail.com', 'Duyen.TL225968@sis.hust.edu.vn', 'Truong.DV225942@sis.hust.edu.vn', 'kienhkboy@gmail.com', 'dinhvantuan123ax@gmail.com', '2004hoangcuc@gmail.com', 'ngocminh2532003@gmail.con', 'minhhaihoang2312@gmail.com', 'an.pb221827@sis.hust.edu.vn', 'quangduc3122004@gmail.com', 'qhus.t8082@gmail.com', 'viethoanghay123@gmail.com', 'nguyenducancbg@gmail.com']\n"
     ]
    },
    {
     "data": {
      "image/png": "[encoded data removed]",
      "text/plain": [
       "<Figure size 640x480 with 1 Axes>"
      ]
     },
     "metadata": {},
     "output_type": "display_data"
    },
    {
     "name": "stdout",
     "output_type": "stream",
     "text": [
      "loss functions: \n",
      "[8197.83570999413, 142.58857575179775, 143.3586750331773, 143.73243202414926, 143.80785511451745, 143.82370778361593, 143.82689517781066, 143.82752226446183, 143.82765364939567]\n"
     ]
    }
   ],
   "source": [
    "supervised_set = [\n",
    "    [\n",
    "        \n",
    "    ]\n",
    "]\n",
    "ssmc_fcm = SSMC_FCM(\n",
    "    dataset=dataset, \n",
    "    fields_len=data_field_len, \n",
    "    fields_weight=[1, 1, 1, 1, 1, 1, 1, 1],\n",
    "    n_clusters=5, \n",
    "    identity=identity,\n",
    "    supervised_set=supervised_set, \n",
    ")\n",
    "ssmc_fcm.clustering()\n",
    "ssmc_fcm.show_cluster_members()\n",
    "ssmc_fcm.show_loss_function()"
   ]
  },
  {
   "cell_type": "code",
   "execution_count": 128,
   "metadata": {},
   "outputs": [
    {
     "name": "stdout",
     "output_type": "stream",
     "text": [
      "Accuracy: 0.0% (0 in 0 of 158)\n",
      "Accuracy: 30.0% (12 in 80 of 158)\n",
      "Accuracy: 25.0% (10 in 35 of 158)\n",
      "Accuracy: 2.5% (1 in 3 of 158)\n",
      "Accuracy: 32.5% (13 in 40 of 158)\n"
     ]
    }
   ],
   "source": [
    "identity_mapping = {iden: idx for idx, iden in enumerate(identity)}\n",
    "for cluster in ssmc_fcm.pred_labels:\n",
    "    count = sum([cluster.count(x) for x in result_set])\n",
    "    print(f\"Accuracy: {round(100 * count / len(result_set), 2)}% ({count} in {len(cluster)} of {len(ssmc_fcm.dataset)})\")\n",
    "    # print([identity.index(i) for i in cluster])\n",
    "    # display(excel_data_df.loc[[identity.index(i) for i in cluster]].iloc[:, [1, *cluster_fields]])"
   ]
  },
  {
   "cell_type": "code",
   "execution_count": 129,
   "metadata": {},
   "outputs": [
    {
     "name": "stdout",
     "output_type": "stream",
     "text": [
      "[1, 0, 0, 0, 0, 0, 0, 0] 0\n",
      "Accuracy: 25.0% (10 in 59 of 158)\n",
      "Accuracy: 7.5% (3 in 7 of 158)\n",
      "Accuracy: 0.0% (0 in 0 of 158)\n",
      "Accuracy: 2.5% (1 in 1 of 158)\n",
      "Accuracy: 55.0% (22 in 91 of 158)\n",
      "\n",
      "[0, 1, 0, 0, 0, 0, 0, 0] 1\n",
      "Accuracy: 0.0% (0 in 4 of 158)\n",
      "Accuracy: 35.0% (14 in 77 of 158)\n",
      "Accuracy: 35.0% (14 in 53 of 158)\n",
      "Accuracy: 20.0% (8 in 21 of 158)\n",
      "Accuracy: 0.0% (0 in 3 of 158)\n",
      "\n",
      "[0, 0, 1, 0, 0, 0, 0, 0] 2\n",
      "Accuracy: 50.0% (20 in 71 of 158)\n",
      "Accuracy: 0.0% (0 in 0 of 158)\n",
      "Accuracy: 0.0% (0 in 1 of 158)\n",
      "Accuracy: 37.5% (15 in 83 of 158)\n",
      "Accuracy: 2.5% (1 in 3 of 158)\n",
      "\n",
      "[0, 0, 0, 1, 0, 0, 0, 0] 3\n",
      "Accuracy: 47.5% (19 in 52 of 158)\n",
      "Accuracy: 12.5% (5 in 64 of 158)\n",
      "Accuracy: 15.0% (6 in 31 of 158)\n",
      "Accuracy: 7.5% (3 in 6 of 158)\n",
      "Accuracy: 7.5% (3 in 5 of 158)\n",
      "\n",
      "[0, 0, 0, 0, 1, 0, 0, 0] 4\n",
      "Accuracy: 35.0% (14 in 53 of 158)\n",
      "Accuracy: 37.5% (15 in 68 of 158)\n",
      "Accuracy: 2.5% (1 in 7 of 158)\n",
      "Accuracy: 15.0% (6 in 30 of 158)\n",
      "Accuracy: 0.0% (0 in 0 of 158)\n",
      "\n",
      "[0, 0, 0, 0, 0, 1, 0, 0] 5\n",
      "Accuracy: 40.0% (16 in 63 of 158)\n",
      "Accuracy: 30.0% (12 in 58 of 158)\n",
      "Accuracy: 0.0% (0 in 1 of 158)\n",
      "Accuracy: 20.0% (8 in 36 of 158)\n",
      "Accuracy: 0.0% (0 in 0 of 158)\n",
      "\n",
      "[0, 0, 0, 0, 0, 0, 1, 0] 6\n",
      "Accuracy: 10.0% (4 in 9 of 158)\n",
      "Accuracy: 32.5% (13 in 75 of 158)\n",
      "Accuracy: 0.0% (0 in 0 of 158)\n",
      "Accuracy: 47.5% (19 in 74 of 158)\n",
      "Accuracy: 0.0% (0 in 0 of 158)\n",
      "\n",
      "[0, 0, 0, 0, 0, 0, 0, 1] 7\n",
      "Accuracy: 80.0% (32 in 127 of 158)\n",
      "Accuracy: 10.0% (4 in 31 of 158)\n",
      "Accuracy: 0.0% (0 in 0 of 158)\n",
      "Accuracy: 0.0% (0 in 0 of 158)\n",
      "Accuracy: 0.0% (0 in 0 of 158)\n",
      "\n"
     ]
    }
   ],
   "source": [
    "identity_mapping = {iden: idx for idx, iden in enumerate(identity)}\n",
    "for i in range(len(cluster_fields)):\n",
    "    __weight = [0] * len(cluster_fields)\n",
    "    __weight[i] = 1\n",
    "    ssmc_fcm = SSMC_FCM(\n",
    "        dataset=dataset, \n",
    "        fields_len=data_field_len, \n",
    "        fields_weight=__weight,\n",
    "        n_clusters=5, \n",
    "        identity=identity,\n",
    "        supervised_set=supervised_set, \n",
    "    )\n",
    "    ssmc_fcm.clustering()\n",
    "    print(__weight, i)\n",
    "    for cluster in ssmc_fcm.pred_labels:\n",
    "        count = sum([cluster.count(x) for x in result_set])\n",
    "        print(f\"Accuracy: {round(100 * count / len(result_set), 2)}% ({count} in {len(cluster)} of {len(ssmc_fcm.dataset)})\")\n",
    "    print()"
   ]
  }
 ],
 "metadata": {
  "kernelspec": {
   "display_name": "Python 3.8.14 64-bit",
   "language": "python",
   "name": "python3"
  },
  "language_info": {
   "codemirror_mode": {
    "name": "ipython",
    "version": 3
   },
   "file_extension": ".py",
   "mimetype": "text/x-python",
   "name": "python",
   "nbconvert_exporter": "python",
   "pygments_lexer": "ipython3",
   "version": "3.8.16"
  },
  "orig_nbformat": 4,
  "vscode": {
   "interpreter": {
    "hash": "e7370f93d1d0cde622a1f8e1c04877d8463912d04d973331ad4851f04de6915a"
   }
  }
 },
 "nbformat": 4,
 "nbformat_minor": 2
}
