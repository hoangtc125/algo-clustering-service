{
 "cells": [
  {
   "cell_type": "code",
   "execution_count": null,
   "metadata": {},
   "outputs": [],
   "source": [
    "import pandas as pd\n",
    "import numpy as np\n",
    "pd.set_option('display.max_rows', None)\n",
    "# pd.set_option('display.max_columns', None)\n",
    "# pd.set_option('display.width', None)\n",
    "# pd.set_option('display.max_colwidth', None)"
   ]
  },
  {
   "cell_type": "code",
   "execution_count": null,
   "metadata": {},
   "outputs": [],
   "source": [
    "excel_data_df = pd.ExcelFile(r'../data/nha.xlsx')\n",
    "excel_data_df = excel_data_df.parse(excel_data_df.sheet_names[1])"
   ]
  },
  {
   "cell_type": "code",
   "execution_count": null,
   "metadata": {},
   "outputs": [],
   "source": [
    "result_df = pd.ExcelFile(r'../data/nha-result.xlsx')\n",
    "result_df = result_df.parse(result_df.sheet_names[0])\n",
    "result_set = result_df.iloc[:, 1].tolist()"
   ]
  },
  {
   "cell_type": "code",
   "execution_count": null,
   "metadata": {},
   "outputs": [],
   "source": [
    "for idx, header in enumerate(excel_data_df.columns.tolist()):\n",
    "    print(idx, header)"
   ]
  },
  {
   "cell_type": "code",
   "execution_count": null,
   "metadata": {},
   "outputs": [],
   "source": [
    "# excel_data_df = excel_data_df[(excel_data_df[\"11. Bạn mong muốn tham gia vào ban\"] == \"Nhân sự\")]\n",
    "# excel_data_df = excel_data_df[(excel_data_df[\"11. Bạn mong muốn tham gia vào ban\"] == \"Đối ngoại\")]\n",
    "# excel_data_df = excel_data_df[(excel_data_df[\"11. Bạn mong muốn tham gia vào ban\"] == \"Chuyên môn\")]\n",
    "excel_data_df.reset_index(drop=True, inplace=True)\n",
    "excel_data_df.fillna(\"\", inplace = True)\n",
    "# filter = [0, 1, 5, 7, 9, 11, 14, 15, 16, 17, 18, 19, 22, 23, 24, 26, 28, 30, 31, 33, 34, 35, 36, 37, 40, 41, 43, 44, 45, 52, 53, 55, 58, 60, 61, 65, 68, 69, 74, 77, 84, 86, 87, 88, 89, 96, 97, 98, 102, 104, 106, 107, 108, 110, 111, 112, 113, 114, 116, 117, 120, 127, 129, 134, 135, 137, 138, 139, 140, 140, 142, 145, 146, 149, 152, 154, 155]\n",
    "# excel_data_df = excel_data_df.iloc[filter]\n",
    "# excel_data_df.reset_index(drop=True, inplace=True)\n",
    "# identity = list(excel_data_df.index.values)\n",
    "identity = excel_data_df.iloc[:, 1].tolist()"
   ]
  },
  {
   "cell_type": "code",
   "execution_count": null,
   "metadata": {},
   "outputs": [],
   "source": [
    "import sys; sys.path.insert(0, '..')\n",
    "from app.loader import loader\n",
    "from app.ssmc_fcm import SSMC_FCM"
   ]
  },
  {
   "cell_type": "code",
   "execution_count": null,
   "metadata": {},
   "outputs": [],
   "source": [
    "fields_chosen = {\n",
    "    # # egg data\n",
    "    # 3: (loader.multilabel_binarizing, 1),\n",
    "    # 4: (loader.multilabel_binarizing, 1),\n",
    "    # 5: (loader.feature_engineering, 1),\n",
    "    # 6: (loader.feature_engineering, 1),\n",
    "    # 7: (loader.multilabel_binarizing, 1),\n",
    "    # 8: (loader.multilabel_binarizing, 1),\n",
    "    # 9: (loader.multilabel_binarizing, 1),\n",
    "    # 10: (loader.feature_engineering, 1),\n",
    "\n",
    "    # nha data\n",
    "    40: (loader.feature_engineering, 1),\n",
    "    43: (loader.feature_engineering, 1),\n",
    "    46: (loader.feature_engineering, 1),\n",
    "    49: (loader.feature_engineering, 1),\n",
    "    55: (loader.feature_engineering, 1),\n",
    "    58: (loader.feature_engineering, 1),\n",
    "}"
   ]
  },
  {
   "cell_type": "code",
   "execution_count": null,
   "metadata": {},
   "outputs": [],
   "source": [
    "from datetime import datetime\n",
    "vectors = {}\n",
    "for id_field, config in fields_chosen.items():\n",
    "    start = datetime.now()\n",
    "    func = config[0]\n",
    "    raw_data = excel_data_df.iloc[:, id_field].tolist()\n",
    "    data = func(raw_data)\n",
    "    vectors[id_field] = data\n",
    "    print(f\"{round(100 * (list(fields_chosen).index(id_field) + 1) / len(fields_chosen), 2)}% ({datetime.now() - start})\")"
   ]
  },
  {
   "cell_type": "code",
   "execution_count": 118,
   "metadata": {},
   "outputs": [
    {
     "data": {
      "text/plain": [
       "((106, 4608), [768, 768, 768, 768, 768, 768], [1, 1, 1, 1, 1, 1])"
      ]
     },
     "execution_count": 118,
     "metadata": {},
     "output_type": "execute_result"
    }
   ],
   "source": [
    "cluster_fields = [\n",
    "    40,\n",
    "    43,\n",
    "    46,\n",
    "    49,\n",
    "    55,\n",
    "    58,\n",
    "]\n",
    "dataset = None\n",
    "data_field_len = []\n",
    "data_field_weight = []\n",
    "for idx, id_field in enumerate(cluster_fields):\n",
    "    data = np.array(vectors[id_field])\n",
    "    dataset = data if idx == 0 else np.hstack((dataset, data))\n",
    "    data_field_len.append(data.shape[1])\n",
    "    data_field_weight.append(fields_chosen[id_field][1])\n",
    "dataset.shape, data_field_len, data_field_weight"
   ]
  },
  {
   "cell_type": "code",
   "execution_count": 117,
   "metadata": {},
   "outputs": [
    {
     "name": "stdout",
     "output_type": "stream",
     "text": [
      "Supervised percentage: 5.66% (6:106)\n",
      "Cluster members: \n",
      "[14, 14, 16, 20, 24, 28, 41, 45, 49, 52, 53, 54, 78, 82, 88, 93, 95, 101, 103, 106, 113, 115, 120, 124, 125, 133, 134, 135, 136, 139, 140, 144, 152, 155, 156, 166, 168, 171, 172, 173, 175, 181, 182, 183, 188, 191, 200, 202, 211, 212, 216, 222, 226, 224, 235, 237, 238, 239, 246, 247]\n",
      "[11, 12, 13, 15, 21, 22, 25, 34, 37, 38, 40, 61, 62, 63, 67, 68, 75, 79, 81, 91, 97, 99, 109, 111, 121, 130, 132, 137, 145, 148, 149, 153, 154, 158, 163, 167, 178, 185, 189, 195, 201, 228, 232, 241]\n",
      "[87]\n",
      "[]\n",
      "[105]\n"
     ]
    },
    {
     "data": {
      "image/png": "[encoded data removed]",
      "text/plain": [
       "<Figure size 640x480 with 1 Axes>"
      ]
     },
     "metadata": {},
     "output_type": "display_data"
    },
    {
     "name": "stdout",
     "output_type": "stream",
     "text": [
      "loss functions: \n",
      "[68.76077411403612, 44.25150535598299, 44.09620208317722, 44.142890157731756, 44.14893580579863, 44.150015680013084, 44.15020876079247, 44.15023862286855]\n"
     ]
    }
   ],
   "source": [
    "supervised_set = [\n",
    "    [\n",
    "        20,\n",
    "        41,\n",
    "        45,\n",
    "        49,\n",
    "        52,\n",
    "        53,\n",
    "    ]\n",
    "]\n",
    "ssmc_fcm = SSMC_FCM(\n",
    "    dataset=dataset, \n",
    "    fields_len=data_field_len, \n",
    "    fields_weight=[1, 0, 1, 0, 3, 0],\n",
    "    n_clusters=5, \n",
    "    identity=identity,\n",
    "    supervised_set=supervised_set, \n",
    ")\n",
    "ssmc_fcm.clustering()\n",
    "ssmc_fcm.show_cluster_members()\n",
    "ssmc_fcm.show_loss_function()"
   ]
  },
  {
   "cell_type": "code",
   "execution_count": 116,
   "metadata": {},
   "outputs": [
    {
     "name": "stdout",
     "output_type": "stream",
     "text": [
      "Accuracy: 84.0% (42 in 60 of 106)\n",
      "Accuracy: 14.0% (7 in 44 of 106)\n",
      "Accuracy: 0.0% (0 in 1 of 106)\n",
      "Accuracy: 0.0% (0 in 0 of 106)\n",
      "Accuracy: 0.0% (0 in 1 of 106)\n"
     ]
    }
   ],
   "source": [
    "identity_mapping = {iden: idx for idx, iden in enumerate(identity)}\n",
    "for cluster in ssmc_fcm.pred_labels:\n",
    "    count = sum([cluster.count(x) for x in result_set])\n",
    "    print(f\"Accuracy: {round(100 * count / len(result_set), 2)}% ({count} in {len(cluster)} of {len(ssmc_fcm.dataset)})\")\n",
    "    # print([identity.index(i) for i in cluster])\n",
    "    # display(excel_data_df.loc[[identity.index(i) for i in cluster]].iloc[:, [1, *cluster_fields]])"
   ]
  }
 ],
 "metadata": {
  "kernelspec": {
   "display_name": "Python 3.8.14 64-bit",
   "language": "python",
   "name": "python3"
  },
  "language_info": {
   "codemirror_mode": {
    "name": "ipython",
    "version": 3
   },
   "file_extension": ".py",
   "mimetype": "text/x-python",
   "name": "python",
   "nbconvert_exporter": "python",
   "pygments_lexer": "ipython3",
   "version": "3.8.16"
  },
  "orig_nbformat": 4,
  "vscode": {
   "interpreter": {
    "hash": "e7370f93d1d0cde622a1f8e1c04877d8463912d04d973331ad4851f04de6915a"
   }
  }
 },
 "nbformat": 4,
 "nbformat_minor": 2
}
