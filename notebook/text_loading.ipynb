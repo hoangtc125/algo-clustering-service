{
 "cells": [
  {
   "cell_type": "code",
   "execution_count": 91,
   "metadata": {},
   "outputs": [],
   "source": [
    "import pandas as pd\n",
    "import numpy as np"
   ]
  },
  {
   "cell_type": "code",
   "execution_count": 92,
   "metadata": {},
   "outputs": [],
   "source": [
    "excel_data_df = pd.ExcelFile(r'../data/nha.xlsx')\n",
    "excel_data_df = excel_data_df.parse(excel_data_df.sheet_names[3])"
   ]
  },
  {
   "cell_type": "code",
   "execution_count": 93,
   "metadata": {},
   "outputs": [
    {
     "name": "stdout",
     "output_type": "stream",
     "text": [
      "0 STT\n",
      "1 ID\n",
      "2 Heure de début\n",
      "3 Heure de fin\n",
      "4 Adresse de messagerie\n",
      "5 Nom\n",
      "6 Total points\n",
      "7 Quiz feedback\n",
      "8 Họ và tên của bạn\n",
      "9 Points - Họ và tên của bạn\n",
      "10 Feedback - Họ và tên của bạn\n",
      "11 Ngày sinh của bạn\n",
      "12 Points - Ngày sinh của bạn\n",
      "13 Feedback - Ngày sinh của bạn\n",
      "14 Giới tính của bạn\n",
      "15 Points - Giới tính của bạn\n",
      "16 Feedback - Giới tính của bạn\n",
      "17 Bạn đang học tại Trường Đại học/Cao đẳng nào?\n",
      "18 Points - Bạn đang học tại Trường Đại học/Cao đẳng nào?\n",
      "19 Feedback - Bạn đang học tại Trường Đại học/Cao đẳng nào?\n",
      "20 Bạn là sinh viên năm mấy?\n",
      "21 Points - Bạn là sinh viên năm mấy?\n",
      "22 Feedback - Bạn là sinh viên năm mấy?\n",
      "23 Lớp chuyên ngành của bạn\n",
      "24 Points - Lớp chuyên ngành của bạn\n",
      "25 Feedback - Lớp chuyên ngành của bạn\n",
      "26 Mã sinh viên\n",
      "27 Points - Mã sinh viên\n",
      "28 Feedback - Mã sinh viên\n",
      "29 Địa chỉ email cá nhân\n",
      "30 Points - Địa chỉ email cá nhân\n",
      "31 Feedback - Địa chỉ email cá nhân\n",
      "32 Số điện thoại\n",
      "33 Points - Số điện thoại\n",
      "34 Feedback - Số điện thoại\n",
      "35 Địa chỉ nơi ở hiện tại\n",
      "36 Points - Địa chỉ nơi ở hiện tại\n",
      "37 Feedback - Địa chỉ nơi ở hiện tại\n",
      "38 Link Facebook cá nhân\n",
      "39 Points - Link Facebook cá nhân\n",
      "40 Feedback - Link Facebook cá nhân\n",
      "41 Bạn nghĩ đâu là điểm khác biệt của bạn so với những ứng viên còn lại? Bạn sẽ làm thế nào để phát huy tối đa điểm khác biệt đó với vai trò là thành viên của LSC?\n",
      "42 Points - Bạn nghĩ đâu là điểm khác biệt của bạn so với những ứng viên còn lại? Bạn sẽ làm thế nào để phát huy tối đa điểm khác biệt đó với vai trò là thành viên của LSC?\n",
      "43 Feedback - Bạn nghĩ đâu là điểm khác biệt của bạn so với những ứng viên còn lại? Bạn sẽ làm thế nào để phát huy tối đa điểm khác biệt đó với vai trò là thành viên của LSC?\n",
      "44 Đâu là điểm yếu lớn nhất của bạn trong thời điểm hiện tại? Bạn đã có hướng khắc phục đối với điểm yếu này chưa? Nếu có, hướng khắc phục đó là gì?\n",
      "45 Points - Đâu là điểm yếu lớn nhất của bạn trong thời điểm hiện tại? Bạn đã có hướng khắc phục đối với điểm yếu này chưa? Nếu có, hướng khắc phục đó là gì?\n",
      "46 Feedback - Đâu là điểm yếu lớn nhất của bạn trong thời điểm hiện tại? Bạn đã có hướng khắc phục đối với điểm yếu này chưa? Nếu có, hướng khắc phục đó là gì?\n",
      "47 Bạn đã từng tham gia hoạt động ngoại khóa (hoạt động tại trường/lớp, hoạt động tình nguyện, hoạt động xã hội,...) nào trước đây chưa nhỉ? \n",
      " Nếu có, hãy nêu cho chúng mình tối đa 3 hoạt động nổi bật...\n",
      "48 Points - Bạn đã từng tham gia hoạt động ngoại khóa (hoạt động tại trường/lớp, hoạt động tình nguyện, hoạt động xã hội,...) nào trước đây chưa nhỉ? \n",
      " Nếu có, hãy nêu cho chúng mình tối đa 3 hoạt động nổi bật...\n",
      "49 Feedback - Bạn đã từng tham gia hoạt động ngoại khóa (hoạt động tại trường/lớp, hoạt động tình nguyện, hoạt động xã hội,...) nào trước đây chưa nhỉ? \n",
      " Nếu có, hãy nêu cho chúng mình tối đa 3 hoạt động nổi bật...\n",
      "50 Cho chúng mình biết mục tiêu của bạn (những điều bạn muốn phát triển) khi tham gia vào LSC nhé! Bạn nghĩ LSC có thể giúp được gì cho bạn với những định hướng đó?\n",
      "51 Points - Cho chúng mình biết mục tiêu của bạn (những điều bạn muốn phát triển) khi tham gia vào LSC nhé! Bạn nghĩ LSC có thể giúp được gì cho bạn với những định hướng đó?\n",
      "52 Feedback - Cho chúng mình biết mục tiêu của bạn (những điều bạn muốn phát triển) khi tham gia vào LSC nhé! Bạn nghĩ LSC có thể giúp được gì cho bạn với những định hướng đó?\n",
      "53 Bạn muốn đăng kí vào Ban nào?\n",
      "54 Points - Bạn muốn đăng kí vào Ban nào?\n",
      "55 Feedback - Bạn muốn đăng kí vào Ban nào?\n",
      "56 Trong cuộc thi Ultra-Marathon (là cuộc chạy đường trường khá khắc nghiệt, khoảng cách dài hơn so với những cuộc đua marathon bình thường) diễn ra ở một khu rừng, không may bạn bị lạc so với đoàn c...\n",
      "57 Points - Trong cuộc thi Ultra-Marathon (là cuộc chạy đường trường khá khắc nghiệt, khoảng cách dài hơn so với những cuộc đua marathon bình thường) diễn ra ở một khu rừng, không may bạn bị lạc so với đoàn c...\n",
      "58 Feedback - Trong cuộc thi Ultra-Marathon (là cuộc chạy đường trường khá khắc nghiệt, khoảng cách dài hơn so với những cuộc đua marathon bình thường) diễn ra ở một khu rừng, không may bạn bị lạc so với đoàn c...\n",
      "59 Cho ý kiến của bạn về: “Tác động của đại dịch Covid-19 lên chuỗi cung ứng”.\n",
      " Gợi ý lựa chọn chủ đề: Ngành hàng nông sản, FMCG, Retail, v.v. / Mặt hàng: Chất bán dẫn, khẩu trang, giấy vệ sinh, v.v.\n",
      "60 Points - Cho ý kiến của bạn về: “Tác động của đại dịch Covid-19 lên chuỗi cung ứng”.\n",
      " Gợi ý lựa chọn chủ đề: Ngành hàng nông sản, FMCG, Retail, v.v. / Mặt hàng: Chất bán dẫn, khẩu trang, giấy vệ sinh, v.v.\n",
      "61 Feedback - Cho ý kiến của bạn về: “Tác động của đại dịch Covid-19 lên chuỗi cung ứng”.\n",
      " Gợi ý lựa chọn chủ đề: Ngành hàng nông sản, FMCG, Retail, v.v. / Mặt hàng: Chất bán dẫn, khẩu trang, giấy vệ sinh, v.v.\n",
      "62 Hãy đưa ra các tiêu chí đánh giá sự thành công của 1 chương trình mà bạn đã từng tham gia/chứng kiến. Nếu bạn là thành viên trong Ban Tổ chức của chương trình đó, bạn sẽ làm những gì để đạt được s...\n",
      "63 Points - Hãy đưa ra các tiêu chí đánh giá sự thành công của 1 chương trình mà bạn đã từng tham gia/chứng kiến. Nếu bạn là thành viên trong Ban Tổ chức của chương trình đó, bạn sẽ làm những gì để đạt được s...\n",
      "64 Feedback - Hãy đưa ra các tiêu chí đánh giá sự thành công của 1 chương trình mà bạn đã từng tham gia/chứng kiến. Nếu bạn là thành viên trong Ban Tổ chức của chương trình đó, bạn sẽ làm những gì để đạt được s...\n",
      "65 Cuộc thi Alpha là cuộc thi giải Case Study do CLB Omega tổ chức. Theo như kế hoạch đề ra ban đầu, tất cả các sự kiện sẽ được tổ chức offline. Tuy nhiên, do tình hình dịch bệnh Covid 19 diễn ra khá...\n",
      "66 Points - Cuộc thi Alpha là cuộc thi giải Case Study do CLB Omega tổ chức. Theo như kế hoạch đề ra ban đầu, tất cả các sự kiện sẽ được tổ chức offline. Tuy nhiên, do tình hình dịch bệnh Covid 19 diễn ra khá...\n",
      "67 Feedback - Cuộc thi Alpha là cuộc thi giải Case Study do CLB Omega tổ chức. Theo như kế hoạch đề ra ban đầu, tất cả các sự kiện sẽ được tổ chức offline. Tuy nhiên, do tình hình dịch bệnh Covid 19 diễn ra khá...\n",
      "68 Trong tình hình dịch bệnh Covid 19 tại Việt Nam diễn ra khá phức tạp, nhiều hoạt động bị gián đoạn, nhiều sự kiện tổ chức offline phải chuyển sang tổ chức online. Điều này dẫn đến nhiều thành viên...\n",
      "69 Points - Trong tình hình dịch bệnh Covid 19 tại Việt Nam diễn ra khá phức tạp, nhiều hoạt động bị gián đoạn, nhiều sự kiện tổ chức offline phải chuyển sang tổ chức online. Điều này dẫn đến nhiều thành viên...\n",
      "70 Feedback - Trong tình hình dịch bệnh Covid 19 tại Việt Nam diễn ra khá phức tạp, nhiều hoạt động bị gián đoạn, nhiều sự kiện tổ chức offline phải chuyển sang tổ chức online. Điều này dẫn đến nhiều thành viên...\n",
      "71 Bạn hãy đặt tên cho bức ảnh và trình bày suy nghĩ của bản thân khi quan sát bức ảnh này nhé!\n",
      "72 Points - \n",
      " Bạn hãy đặt tên cho bức ảnh và trình bày suy nghĩ của bản thân khi quan sát bức ảnh này nhé!\n",
      "73 Feedback - \n",
      " Bạn hãy đặt tên cho bức ảnh và trình bày suy nghĩ của bản thân khi quan sát bức ảnh này nhé!\n",
      "74 Bạn đã từng thành công thuyết phục một ai đó để đạt được mục đích của mình hay chưa? Nếu có, hãy chia sẻ với chúng mình về câu chuyện đó nhé!\n",
      "75 Points - Bạn đã từng thành công thuyết phục một ai đó để đạt được mục đích của mình hay chưa? Nếu có, hãy chia sẻ với chúng mình về câu chuyện đó nhé!\n",
      "76 Feedback - Bạn đã từng thành công thuyết phục một ai đó để đạt được mục đích của mình hay chưa? Nếu có, hãy chia sẻ với chúng mình về câu chuyện đó nhé!\n",
      "77 Với mục tiêu trở thành Câu lạc bộ tiên phong trong lĩnh vực, LSC đã liên tiếp tổ chức thành công các sự kiện, thu hút đông đảo sự quan tâm của cộng đồng sinh viên, doanh nghiệp. Nếu bạn là một thà...\n",
      "78 Points - Với mục tiêu trở thành Câu lạc bộ tiên phong trong lĩnh vực, LSC đã liên tiếp tổ chức thành công các sự kiện, thu hút đông đảo sự quan tâm của cộng đồng sinh viên, doanh nghiệp. Nếu bạn là một thà...\n",
      "79 Feedback - Với mục tiêu trở thành Câu lạc bộ tiên phong trong lĩnh vực, LSC đã liên tiếp tổ chức thành công các sự kiện, thu hút đông đảo sự quan tâm của cộng đồng sinh viên, doanh nghiệp. Nếu bạn là một thà...\n",
      "80 Sau khi liên hệ, bạn đã rất thành công khi có một buổi hẹn trao đổi trực tiếp với đối tác tiềm năng đã lựa chọn ở trên. Trong buổi hẹn, bên phía đối tác chia sẻ rất thích sự kiện lần này của CLB v...\n",
      "81 Points - Sau khi liên hệ, bạn đã rất thành công khi có một buổi hẹn trao đổi trực tiếp với đối tác tiềm năng đã lựa chọn ở trên. Trong buổi hẹn, bên phía đối tác chia sẻ rất thích sự kiện lần này của CLB v...\n",
      "82 Feedback - Sau khi liên hệ, bạn đã rất thành công khi có một buổi hẹn trao đổi trực tiếp với đối tác tiềm năng đã lựa chọn ở trên. Trong buổi hẹn, bên phía đối tác chia sẻ rất thích sự kiện lần này của CLB v...\n",
      "83 Lĩnh vực kiến thức nào khiến bạn quan tâm nhất? Hãy dẫn ra và mô tả ngắn gọn cảm nghĩ của bạn về một bài viết/cuốn sách/đoạn trích mà bạn thấy hay nhất về lĩnh vực...\n",
      "84 Points - Lĩnh vực kiến thức nào khiến bạn quan tâm nhất? Hãy dẫn ra và mô tả ngắn gọn cảm nghĩ của bạn về một bài viết/cuốn sách/đoạn trích mà bạn thấy hay nhất về lĩnh vực...\n",
      "85 Feedback - Lĩnh vực kiến thức nào khiến bạn quan tâm nhất? Hãy dẫn ra và mô tả ngắn gọn cảm nghĩ của bạn về một bài viết/cuốn sách/đoạn trích mà bạn thấy hay nhất về lĩnh vực...\n",
      "86 \"Tư duy tích cực là...\"\n",
      " Điền vào chỗ trống và giải thích ý kiến của bạn bằng 1 đoạn văn ngắn trong khoảng 100 - 200 từ.\n",
      "87 Points - \"Tư duy tích cực là...\"\n",
      " Điền vào chỗ trống và giải thích ý kiến của bạn bằng 1 đoạn văn ngắn trong khoảng 100 - 200 từ.\n",
      "88 Feedback - \"Tư duy tích cực là...\"\n",
      " Điền vào chỗ trống và giải thích ý kiến của bạn bằng 1 đoạn văn ngắn trong khoảng 100 - 200 từ.\n",
      "89 Cho 4 từ khóa sau: kẹo đường dalgola; sao kê; Đen Vâu; Horizon.\n",
      " Bạn hãy chọn 1 trong 4 từ khóa ở trên và đưa ra ý tưởng để kết hợp từ khóa đó với chủ đề \"Sự khan hiếm\" thành một bài viết vừa ...\n",
      "90 Points - Cho 4 từ khóa sau: kẹo đường dalgola; sao kê; Đen Vâu; Horizon.\n",
      " Bạn hãy chọn 1 trong 4 từ khóa ở trên và đưa ra ý tưởng để kết hợp từ khóa đó với chủ đề \"Sự khan hiếm\" thành một bài viết vừa ...\n",
      "91 Feedback - Cho 4 từ khóa sau: kẹo đường dalgola; sao kê; Đen Vâu; Horizon.\n",
      " Bạn hãy chọn 1 trong 4 từ khóa ở trên và đưa ra ý tưởng để kết hợp từ khóa đó với chủ đề \"Sự khan hiếm\" thành một bài viết vừa ...\n",
      "92 Points - Bạn đã và đang sử dụng những công cụ nào để thiết kế ấn phẩm, edit video? Bạn nhận thấy khả năng sử dụng các công cụ thiết kế của mình như thế nào?\n",
      "93 Feedback - Bạn đã và đang sử dụng những công cụ nào để thiết kế ấn phẩm, edit video? Bạn nhận thấy khả năng sử dụng các công cụ thiết kế của mình như thế nào?\n",
      "94 Adobe Illustrator\n",
      "95 Points - Adobe Illustrator\n",
      "96 Feedback - Adobe Illustrator\n",
      "97 Adobe Photoshop\n",
      "98 Points - Adobe Photoshop\n",
      "99 Feedback - Adobe Photoshop\n",
      "100 Adobe Premiere\n",
      "101 Points - Adobe Premiere\n",
      "102 Feedback - Adobe Premiere\n",
      "103 Adobe After Effects\n",
      "104 Points - Adobe After Effects\n",
      "105 Feedback - Adobe After Effects\n",
      "106 PowerPoint\n",
      "107 Points - PowerPoint\n",
      "108 Feedback - PowerPoint\n",
      "109 Canva\n",
      "110 Points - Canva\n",
      "111 Feedback - Canva\n",
      "112 Máy ảnh\n",
      "113 Points - Máy ảnh\n",
      "114 Feedback - Máy ảnh\n",
      "115 Ngoài các công cụ thiết kế ấn phẩm, edit video kể trên, bạn còn sử dụng công cụ nào khác nữa không? Kể cho chúng mình biết nhé!\n",
      "116 Points - Ngoài các công cụ thiết kế ấn phẩm, edit video kể trên, bạn còn sử dụng công cụ nào khác nữa không? Kể cho chúng mình biết nhé!\n",
      "117 Feedback - Ngoài các công cụ thiết kế ấn phẩm, edit video kể trên, bạn còn sử dụng công cụ nào khác nữa không? Kể cho chúng mình biết nhé!\n",
      "118 Hãy gửi cho chúng mình từ 2 đến 3 ấn phẩm mà bạn đã từng thiết kế, chỉnh sửa nhé! (Ví dụ: poster, cover, banner, video, ảnh chụp,...)\n",
      "119 Points - Hãy gửi cho chúng mình từ 2 đến 3 ấn phẩm mà bạn đã từng thiết kế, chỉnh sửa nhé! (Ví dụ: poster, cover, banner, video, ảnh chụp,...)\n",
      "120 Feedback - Hãy gửi cho chúng mình từ 2 đến 3 ấn phẩm mà bạn đã từng thiết kế, chỉnh sửa nhé! (Ví dụ: poster, cover, banner, video, ảnh chụp,...)\n",
      "121 Câu lạc bộ có 2 loại ấn phẩm, bạn có thể tìm theo những hashtags sau: branding (#LSCnews, #LSCinsideout, #LSCM101) và sự kiện (#LOGin2021, #LogiChain2021).\n",
      " Bạn có nhận xét gì về mặt hình ảnh trê...\n",
      "122 Points - Câu lạc bộ có 2 loại ấn phẩm, bạn có thể tìm theo những hashtags sau: branding (#LSCnews, #LSCinsideout, #LSCM101) và sự kiện (#LOGin2021, #LogiChain2021).\n",
      " Bạn có nhận xét gì về mặt hình ảnh trê...\n",
      "123 Feedback - Câu lạc bộ có 2 loại ấn phẩm, bạn có thể tìm theo những hashtags sau: branding (#LSCnews, #LSCinsideout, #LSCM101) và sự kiện (#LOGin2021, #LogiChain2021).\n",
      " Bạn có nhận xét gì về mặt hình ảnh trê...\n",
      "124 Nếu Câu lạc bộ diễn ra một sự kiện lấy chủ đề \"Good hope\" - \"Phá vỡ giới hạn\" với nội dung là chuyến đi khám phá viễn dương của các thủy thủ. Là 1 thành viên của tiểu ban Kĩ thuật, bạn có nhiệm vụ...\n",
      "125 Points - Nếu Câu lạc bộ diễn ra một sự kiện lấy chủ đề \"Good hope\" - \"Phá vỡ giới hạn\" với nội dung là chuyến đi khám phá viễn dương của các thủy thủ. Là 1 thành viên của tiểu ban Kĩ thuật, bạn có nhiệm vụ...\n",
      "126 Feedback - Nếu Câu lạc bộ diễn ra một sự kiện lấy chủ đề \"Good hope\" - \"Phá vỡ giới hạn\" với nội dung là chuyến đi khám phá viễn dương của các thủy thủ. Là 1 thành viên của tiểu ban Kĩ thuật, bạn có nhiệm vụ...\n",
      "127 Nguyện vọng 2 của bạn là?\n",
      "128 Points - Nguyện vọng 2 của bạn là?\n",
      "129 Feedback - Nguyện vọng 2 của bạn là?\n"
     ]
    }
   ],
   "source": [
    "\n",
    "for idx, header in enumerate(excel_data_df.columns.tolist()):\n",
    "    print(idx, header)"
   ]
  },
  {
   "cell_type": "code",
   "execution_count": 101,
   "metadata": {},
   "outputs": [],
   "source": [
    "# excel_data_df = excel_data_df[(excel_data_df[\"11. Bạn mong muốn tham gia vào ban\"] == \"Nhân sự\")]\n",
    "# excel_data_df = excel_data_df[(excel_data_df[\"11. Bạn mong muốn tham gia vào ban\"] == \"Đối ngoại\")]\n",
    "# excel_data_df = excel_data_df[(excel_data_df[\"11. Bạn mong muốn tham gia vào ban\"] == \"Chuyên môn\")]\n",
    "excel_data_df.fillna(\"\", inplace = True)\n",
    "# identity = list(excel_data_df.index.values)\n",
    "identity = excel_data_df.loc[:, \"ID\"].tolist()"
   ]
  },
  {
   "cell_type": "code",
   "execution_count": 95,
   "metadata": {},
   "outputs": [],
   "source": [
    "import sys; sys.path.insert(0, '..')\n",
    "from app.loader import loader\n",
    "from app.ssmc_fcm import SSMC_FCM"
   ]
  },
  {
   "cell_type": "code",
   "execution_count": 96,
   "metadata": {},
   "outputs": [],
   "source": [
    "fields_chosen = [\n",
    "    (40, loader.feature_engineering, 1),\n",
    "    (43, loader.feature_engineering, 1),\n",
    "    (46, loader.feature_engineering, 1),\n",
    "    (49, loader.feature_engineering, 1),\n",
    "    \n",
    "    (74, loader.feature_engineering, 1),\n",
    "    (77, loader.feature_engineering, 1),\n",
    "    (80, loader.feature_engineering, 1),\n",
    "]"
   ]
  },
  {
   "cell_type": "code",
   "execution_count": 97,
   "metadata": {},
   "outputs": [
    {
     "data": {
      "text/plain": [
       "((66, 5376), [768, 768, 768, 768, 768, 768, 768], [1, 1, 1, 1, 1, 1, 1])"
      ]
     },
     "execution_count": 97,
     "metadata": {},
     "output_type": "execute_result"
    }
   ],
   "source": [
    "dataset = None\n",
    "data_field_len = []\n",
    "data_field_weight = []\n",
    "for idx, func, w in fields_chosen:\n",
    "    raw_data = excel_data_df.iloc[:, idx].tolist()\n",
    "    data = func(raw_data)\n",
    "    dataset = data if dataset is None else np.hstack((dataset, data))\n",
    "    data_field_len.append(data.shape[1])\n",
    "    data_field_weight.append(w)\n",
    "dataset.shape, data_field_len, data_field_weight"
   ]
  },
  {
   "cell_type": "code",
   "execution_count": 109,
   "metadata": {},
   "outputs": [
    {
     "name": "stdout",
     "output_type": "stream",
     "text": [
      "Supervised percentage: 0.0% (0:66)\n",
      "Cluster members: \n",
      "[12, 28, 30, 33, 41, 44, 48, 58, 64, 86, 89, 96, 108, 112, 118, 127, 129, 124, 133, 143, 146, 159, 160, 161, 162, 169, 170, 143, 150, 165, 174, 176, 179, 184, 194, 197, 204, 206, 219]\n",
      "[23, 34, 35, 38, 54, 61, 66, 68, 70, 71, 72, 77, 83, 79, 116, 119, 109, 117, 157, 149, 163, 177]\n",
      "[]\n",
      "[47, 178]\n",
      "[73, 153, 223]\n"
     ]
    },
    {
     "data": {
      "image/png": "[encoded data removed]",
      "text/plain": [
       "<Figure size 640x480 with 1 Axes>"
      ]
     },
     "metadata": {},
     "output_type": "display_data"
    },
    {
     "name": "stdout",
     "output_type": "stream",
     "text": [
      "loss functions: \n",
      "[356.425343975206, 265.5089039543861, 260.12716291329326, 260.0193453537035, 260.01808803145457, 260.0180680306209, 260.018072105872]\n"
     ]
    }
   ],
   "source": [
    "supervised_set = [\n",
    "]\n",
    "ssmc_fcm = SSMC_FCM(\n",
    "    dataset=dataset, \n",
    "    fields_len=data_field_len,\n",
    "    fields_weight=data_field_weight,\n",
    "    # fields_weight=[3, 1, 1, 3, 1],\n",
    "    n_clusters=5, \n",
    "    identity=identity,\n",
    "    supervised_set=supervised_set, \n",
    ")\n",
    "ssmc_fcm.clustering()\n",
    "ssmc_fcm.show_cluster_members()\n",
    "ssmc_fcm.show_loss_function()"
   ]
  },
  {
   "cell_type": "code",
   "execution_count": 110,
   "metadata": {},
   "outputs": [],
   "source": [
    "result_df = pd.ExcelFile(r'../data/nha-result.xlsx')\n",
    "result_df = result_df.parse(result_df.sheet_names[2])\n",
    "res = result_df.iloc[:, 1].tolist()"
   ]
  },
  {
   "cell_type": "code",
   "execution_count": 111,
   "metadata": {},
   "outputs": [
    {
     "name": "stdout",
     "output_type": "stream",
     "text": [
      "Accuracy: 72.0% (36 in 39)\n",
      "Accuracy: 10.0% (5 in 22)\n",
      "Accuracy: 0.0% (0 in 0)\n",
      "Accuracy: 0.0% (0 in 2)\n",
      "Accuracy: 4.0% (2 in 3)\n"
     ]
    }
   ],
   "source": [
    "identity_mapping = {iden: idx for idx, iden in enumerate(identity)}\n",
    "for cluster in ssmc_fcm.pred_labels:\n",
    "    count = sum([cluster.count(x) for x in res])\n",
    "    print(f\"Accuracy: {round(100 * count / len(res), 2)}% ({count} in {len(cluster)})\")\n",
    "    # display(excel_data_df.loc[[identity.index(i) for i in cluster]].iloc[:, [1, *[i[0] for i in fields_chosen]]])"
   ]
  }
 ],
 "metadata": {
  "kernelspec": {
   "display_name": "Python 3.8.14 64-bit",
   "language": "python",
   "name": "python3"
  },
  "language_info": {
   "codemirror_mode": {
    "name": "ipython",
    "version": 3
   },
   "file_extension": ".py",
   "mimetype": "text/x-python",
   "name": "python",
   "nbconvert_exporter": "python",
   "pygments_lexer": "ipython3",
   "version": "3.8.16"
  },
  "orig_nbformat": 4,
  "vscode": {
   "interpreter": {
    "hash": "e7370f93d1d0cde622a1f8e1c04877d8463912d04d973331ad4851f04de6915a"
   }
  }
 },
 "nbformat": 4,
 "nbformat_minor": 2
}
