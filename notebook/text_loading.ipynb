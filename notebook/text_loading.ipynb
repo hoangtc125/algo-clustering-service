{
 "cells": [
  {
   "cell_type": "code",
   "execution_count": 1,
   "metadata": {},
   "outputs": [],
   "source": [
    "import pandas as pd\n",
    "import numpy as np"
   ]
  },
  {
   "cell_type": "code",
   "execution_count": 2,
   "metadata": {},
   "outputs": [],
   "source": [
    "excel_data_df = pd.read_excel(r'../data/data.xlsx')"
   ]
  },
  {
   "cell_type": "code",
   "execution_count": 3,
   "metadata": {},
   "outputs": [
    {
     "name": "stdout",
     "output_type": "stream",
     "text": [
      "0 Dấu thời gian\n",
      "1 1. Bạn tên là \n",
      "2 2. Ngày sinh\n",
      "3 3. Số điện thoại\n",
      "4 4. Bạn đến từ trường nào\n",
      "5 5. Bạn đang là sinh viên:\n",
      "6 6. MSSV\n",
      "7 7. Link Facebook\n",
      "8 8. Outlook\n",
      "9 9. Gmail\n",
      "10 10. Trình độ tiếng anh\n",
      "11 11. Bạn mong muốn tham gia vào ban\n",
      "12 1. CV của bạn:\n",
      "13 3. Bạn đang quan tâm về lĩnh vực nào? Bạn đã biết gì về lĩnh vực này?\n",
      "14 4. Bạn có dự án nào không? Nếu có, bạn hãy điền link Github có những dự án của bạn?\n",
      "15 6. Bạn nghĩ mình có thể đóng góp gì cho SINNO với tư cách là thành viên ban Chuyên Môn?\n",
      "16 7. Ngoài mong muốn được học hỏi, bạn còn có mong muốn gì khi trở thành một thành viên của ban Chuyên Môn?\n",
      "17 8. Hãy nêu chi tiết một ý tưởng về công nghệ mà bạn đang muốn thực hiện.\n",
      "18 1. Bạn đã từng làm cán bộ lớp hoặc tham gia các tổ chức, CLB, Đội nào chưa? Vai trò của bạn là gì?\n",
      "19 2. Khi ở một môi trường mới, bạn có hòa đồng/chủ động làm quen với những người xung quanh không? Cho chúng mình biết lý do nhé.\n",
      "20 3. Mức thành thạo tin học văn phòng (Word, Excel,...)\n",
      "21 4. Link một Plan/MasterPlan bạn đã từng làm\n",
      "22 1. Bạn có ý tưởng truyền thông cho CLB không?\n",
      "23 2. Bạn hãy giả sử một sự kiện cần truyền thông và lên kế hoạch cho sự kiện đó?\n",
      "24 3. Theo bạn, làm thế nào để thu hút tương tác?\n",
      "25 4. Nếu mở rộng sang những platform khác thì bạn có những ý tưởng content gì?\n",
      "26 5. Nếu deadline là ngày mai mà vướng bận thì xử lý như thế nào?\n",
      "27 6. Bạn mong muốn nhận được gì từ CLB?\n",
      "28 6. Bạn mong muốn được làm việc trong mảng nào:\n",
      "29 1. Liệt kê 3 điểm mạnh và 3 điểm yếu của bạn?\n",
      "30 2. Bạn đã từng làm cán bộ lớp hoặc tham gia các tổ chức, CLB, Đội, Nhóm nào chưa?    Nếu có hãy kể 1 trải nghiệm thú vị.\n",
      "31 3. Bạn có mong muốn gì nếu được trở thành một phần của Ban Đối Ngoại?\n",
      "32 4. Khi muốn làm quen với một ai đó, bạn sẽ làm gì? Tại sao?\n",
      "33 1. Bạn đã tìm hiểu gì về ban Hậu cần chưa? Nói cho SINNO nghe với nhé.\n",
      "34 2. Có thể cho SINNO hỏi bạn biết đến CLB qua đâu không?\n",
      "35 3. Bạn có đề xuất gì liên quan đến việc hoạt động của SINNO không?\n",
      "36 4.  Bạn mong muốn nhận được gì từ phía CLB SINNO?\n",
      "37 5. Bạn còn muốn hỏi thêm gì về SINNO không?\n",
      "38 1. Nghề tay trái của bạn (tài lẻ). Hãy bật mí cho SINNO nghe đi.\n",
      "39 2. Bạn có thể bật mí cho SINNO biết tại sao bạn chọn tham gia ban Hậu cần không?.\n",
      "40 3. Bạn có kinh nghiệm gì trong việc tổ chức sự kiện hay quản lý ngân sách của tập thể không?\n",
      "41 9. Ngoài các sự kiện về CNTT, bạn còn tham gia các sự kiện nào khác không? Nếu có, hãy liệt kê nhiều nhất có  thể.\n",
      "42 2. Bạn có sử dụng thành thạo GitHub hay GitLab hoặc các công cụ quản lý tương tự không? Nếu có, hay điền link profile đến công cụ bạn đang sử dụng.\n",
      "43 5. Trong các dự án, bạn thường đóng vai trò gì?\n",
      "44 Unnamed: 44\n",
      "45 Bạn từng có sản phẩm hay ấn phẩm nào từng làm rồi không, có thể cho bọn mình xem không (ảnh design, video, ảnh chụp,....)? Hãy gửi link đến folder ấn phẩm của bạn (drive, oneshare, figma,....).\n"
     ]
    }
   ],
   "source": [
    "for idx, header in enumerate(excel_data_df.columns.tolist()):\n",
    "    print(idx, header)"
   ]
  },
  {
   "cell_type": "code",
   "execution_count": 4,
   "metadata": {},
   "outputs": [],
   "source": [
    "excel_data_df.fillna(\"\", inplace = True)"
   ]
  },
  {
   "cell_type": "code",
   "execution_count": 5,
   "metadata": {},
   "outputs": [
    {
     "name": "stderr",
     "output_type": "stream",
     "text": [
      "/home/hoangtc125/.local/lib/python3.8/site-packages/tqdm/auto.py:21: TqdmWarning: IProgress not found. Please update jupyter and ipywidgets. See https://ipywidgets.readthedocs.io/en/stable/user_install.html\n",
      "  from .autonotebook import tqdm as notebook_tqdm\n"
     ]
    },
    {
     "name": "stdout",
     "output_type": "stream",
     "text": [
      "--- Algo Clustering Config:\n",
      " {\n",
      "    \"SERVICE_NAME\": \"ALGO_CLUSTERING\",\n",
      "    \"STOPWORD_PATH\": \"/media/hoangtc125/E/DATN/algo-clustering-service/resources/vn_stopword.txt\",\n",
      "    \"FEATURES_PATH\": \"/media/hoangtc125/E/DATN/algo-clustering-service/resources/features.txt\"\n",
      "}\n",
      "No GPU available, using the CPU instead.\n"
     ]
    },
    {
     "name": "stderr",
     "output_type": "stream",
     "text": [
      "Some weights of the model checkpoint at vinai/phobert-base were not used when initializing RobertaModel: ['lm_head.dense.weight', 'lm_head.layer_norm.weight', 'lm_head.bias', 'lm_head.layer_norm.bias', 'lm_head.decoder.bias', 'lm_head.dense.bias', 'lm_head.decoder.weight']\n",
      "- This IS expected if you are initializing RobertaModel from the checkpoint of a model trained on another task or with another architecture (e.g. initializing a BertForSequenceClassification model from a BertForPreTraining model).\n",
      "- This IS NOT expected if you are initializing RobertaModel from the checkpoint of a model that you expect to be exactly identical (initializing a BertForSequenceClassification model from a BertForSequenceClassification model).\n",
      "Special tokens have been added in the vocabulary, make sure the associated word embeddings are fine-tuned or trained.\n"
     ]
    }
   ],
   "source": [
    "import sys; sys.path.insert(0, '..')\n",
    "from app.loader import loader\n",
    "from app.ssmc_fcm import SSMC_FCM"
   ]
  },
  {
   "cell_type": "code",
   "execution_count": 6,
   "metadata": {},
   "outputs": [
    {
     "data": {
      "text/plain": [
       "(145, 768)"
      ]
     },
     "execution_count": 6,
     "metadata": {},
     "output_type": "execute_result"
    }
   ],
   "source": [
    "raw_field18 = excel_data_df.iloc[:, 18].tolist()\n",
    "field18 = loader.feature_engineering(raw_field18)\n",
    "field18.shape"
   ]
  },
  {
   "cell_type": "code",
   "execution_count": 7,
   "metadata": {},
   "outputs": [
    {
     "data": {
      "text/plain": [
       "(145, 768)"
      ]
     },
     "execution_count": 7,
     "metadata": {},
     "output_type": "execute_result"
    }
   ],
   "source": [
    "raw_field19 = excel_data_df.iloc[:, 19].tolist()\n",
    "field19 = loader.feature_engineering(raw_field19)\n",
    "field19.shape"
   ]
  },
  {
   "cell_type": "code",
   "execution_count": 8,
   "metadata": {},
   "outputs": [
    {
     "data": {
      "text/plain": [
       "(145, 4)"
      ]
     },
     "execution_count": 8,
     "metadata": {},
     "output_type": "execute_result"
    }
   ],
   "source": [
    "raw_field20 = excel_data_df.iloc[:, 20].tolist()\n",
    "field20 = [[i] for i in raw_field20]\n",
    "field20 = loader.multilabel_binarizing(field20)\n",
    "field20.shape"
   ]
  },
  {
   "cell_type": "code",
   "execution_count": 9,
   "metadata": {},
   "outputs": [
    {
     "data": {
      "text/plain": [
       "(145, 768)"
      ]
     },
     "execution_count": 9,
     "metadata": {},
     "output_type": "execute_result"
    }
   ],
   "source": [
    "raw_field21 = excel_data_df.iloc[:, 21].tolist()\n",
    "field21 = loader.feature_engineering(raw_field21)\n",
    "field21.shape"
   ]
  },
  {
   "cell_type": "code",
   "execution_count": 10,
   "metadata": {},
   "outputs": [
    {
     "data": {
      "text/plain": [
       "((145, 2308), [768, 768, 4, 768])"
      ]
     },
     "execution_count": 10,
     "metadata": {},
     "output_type": "execute_result"
    }
   ],
   "source": [
    "dataset = np.hstack((field18, field19, field20, field21))\n",
    "data_field_len = [field18.shape[1], field19.shape[1], field20.shape[1], field21.shape[1]]\n",
    "dataset.shape, data_field_len\n",
    "# excel_data_df = excel_data_df[(excel_data_df[\"11. Bạn mong muốn tham gia vào ban\"] == \"Nhân sự\")]"
   ]
  },
  {
   "cell_type": "code",
   "execution_count": 33,
   "metadata": {},
   "outputs": [
    {
     "name": "stdout",
     "output_type": "stream",
     "text": [
      "Supervised percentage: 0.0% (0:145)\n",
      "Cluster members: \n",
      "[0, 1, 2, 3, 4, 5, 6, 7, 8, 9, 10, 11, 12, 13, 14, 15, 16, 17, 18, 19, 20, 21, 22, 23, 24, 25, 26, 27, 28, 29, 30, 31, 32, 33, 34, 35, 36, 37, 38, 39, 40, 41, 42, 43, 44, 45, 46, 47, 48, 49, 50, 51, 52, 53, 54, 55, 56, 57, 58, 59, 60, 61, 62, 63, 64, 65, 66, 67, 68, 69, 70, 71, 72, 73, 74, 75, 76, 77, 78, 79, 80, 81, 82, 83, 84, 85, 86, 87, 88, 89, 90, 91, 92, 93, 94, 95, 96, 97, 98, 99, 100, 102, 121, 125, 131, 132, 133, 134, 135, 136, 137, 138, 139, 140, 141, 142, 143, 144]\n",
      "[101, 104, 105, 106, 107, 108, 110, 111, 115, 116, 120, 123, 126, 127, 129, 130]\n",
      "[103, 109, 112, 113, 114, 117, 118, 119, 122, 124, 128]\n"
     ]
    },
    {
     "data": {
      "image/png": "[encoded data removed]",
      "text/plain": [
       "<Figure size 640x480 with 1 Axes>"
      ]
     },
     "metadata": {},
     "output_type": "display_data"
    },
    {
     "name": "stdout",
     "output_type": "stream",
     "text": [
      "loss functions: \n",
      "[356.8704765412413, 307.77784941130864, 304.0138829659645, 303.7148461249558, 303.68754673267074, 303.68493210428755, 303.68466514865617, 303.6846340859165, 303.68462968061294, 303.6846289212775, 303.68462877285526]\n"
     ]
    }
   ],
   "source": [
    "supervised_set = [\n",
    "]\n",
    "ssmc_fcm = SSMC_FCM(\n",
    "    dataset=dataset, \n",
    "    fields_len=data_field_len,\n",
    "    fields_weight=[1, 1, 1, 1],\n",
    "    n_clusters=3, \n",
    "    supervised_set=supervised_set, \n",
    ")\n",
    "ssmc_fcm.clustering()\n",
    "ssmc_fcm.show_cluster_members()\n",
    "ssmc_fcm.show_loss_function()"
   ]
  },
  {
   "cell_type": "code",
   "execution_count": 35,
   "metadata": {},
   "outputs": [
    {
     "data": {
      "text/html": [
       "<div>\n",
       "<style scoped>\n",
       "    .dataframe tbody tr th:only-of-type {\n",
       "        vertical-align: middle;\n",
       "    }\n",
       "\n",
       "    .dataframe tbody tr th {\n",
       "        vertical-align: top;\n",
       "    }\n",
       "\n",
       "    .dataframe thead th {\n",
       "        text-align: right;\n",
       "    }\n",
       "</style>\n",
       "<table border=\"1\" class=\"dataframe\">\n",
       "  <thead>\n",
       "    <tr style=\"text-align: right;\">\n",
       "      <th></th>\n",
       "      <th>1. Bạn tên là</th>\n",
       "      <th>1. Bạn đã từng làm cán bộ lớp hoặc tham gia các tổ chức, CLB, Đội nào chưa? Vai trò của bạn là gì?</th>\n",
       "      <th>2. Khi ở một môi trường mới, bạn có hòa đồng/chủ động làm quen với những người xung quanh không? Cho chúng mình biết lý do nhé.</th>\n",
       "      <th>3. Mức thành thạo tin học văn phòng (Word, Excel,...)</th>\n",
       "      <th>4. Link một Plan/MasterPlan bạn đã từng làm</th>\n",
       "    </tr>\n",
       "  </thead>\n",
       "  <tbody>\n",
       "    <tr>\n",
       "      <th>101</th>\n",
       "      <td>Đỗ Duy Hùng</td>\n",
       "      <td>vc</td>\n",
       "      <td>Rất tốt</td>\n",
       "      <td>Tốt</td>\n",
       "      <td>vc</td>\n",
       "    </tr>\n",
       "    <tr>\n",
       "      <th>104</th>\n",
       "      <td>Đường Minh Quân</td>\n",
       "      <td>Mình đã từng làm cán bộ lớp, cụ thể là lớp trư...</td>\n",
       "      <td>Bản thân mình là một người khá là cởi mở, thíc...</td>\n",
       "      <td>Bình thường</td>\n",
       "      <td>https://docs.google.com/spreadsheets/d/13UPSeA...</td>\n",
       "    </tr>\n",
       "    <tr>\n",
       "      <th>105</th>\n",
       "      <td>Nguyễn Quang Duy</td>\n",
       "      <td>Có tham gia</td>\n",
       "      <td>Có</td>\n",
       "      <td>Tốt</td>\n",
       "      <td>Thành viên giúp b trong lop cntt</td>\n",
       "    </tr>\n",
       "    <tr>\n",
       "      <th>106</th>\n",
       "      <td>Nguyễn Anh Luận</td>\n",
       "      <td>Bản thân em đã từng tham gia 2 CLB (1 trong tr...</td>\n",
       "      <td>Khi ở một môi trường mới, tất nhiên là em sẽ c...</td>\n",
       "      <td>Nhập môn</td>\n",
       "      <td>https://docs.google.com/spreadsheets/d/1oaqyjw...</td>\n",
       "    </tr>\n",
       "    <tr>\n",
       "      <th>107</th>\n",
       "      <td>Trần Quang Phúc</td>\n",
       "      <td>Đã từng làm ở cấp 2. Vai trò lớp trưởng, lớp p...</td>\n",
       "      <td>Có. Vì làm quen với mọi người sẽ giúp việc học...</td>\n",
       "      <td>Bình thường</td>\n",
       "      <td>Đã từng cùng một nhóm bạn thành lập câu lạc bộ...</td>\n",
       "    </tr>\n",
       "    <tr>\n",
       "      <th>108</th>\n",
       "      <td>Nguyễn Thu Hà</td>\n",
       "      <td>Mình đã từng làm lớp trưởng hồi phổ thông và k...</td>\n",
       "      <td>Mình được đánh giá là một người khá chủ động v...</td>\n",
       "      <td>Tốt</td>\n",
       "      <td>Mình chưa từng viết Plan/MasterPlan nhưng sẵn ...</td>\n",
       "    </tr>\n",
       "    <tr>\n",
       "      <th>110</th>\n",
       "      <td>Lương Đức Trọng</td>\n",
       "      <td>Mình từng làm lớp phó học tập hồi cấp 2 và tha...</td>\n",
       "      <td>Ở một môi trường mới, mình luôn muốn làm quen ...</td>\n",
       "      <td>Tốt</td>\n",
       "      <td>các plan mình đã tham gia không lưu dưới dạng ...</td>\n",
       "    </tr>\n",
       "    <tr>\n",
       "      <th>111</th>\n",
       "      <td>Lưu Minh Thắng</td>\n",
       "      <td>Em đã từng làm lớp trưởng, cấp 3 em cũng tham ...</td>\n",
       "      <td>Mọi người nhận xét em là một con người dễ gần ...</td>\n",
       "      <td>Bình thường</td>\n",
       "      <td>Em chưa có tham gia các Plan/MasterPlan về CNT...</td>\n",
       "    </tr>\n",
       "    <tr>\n",
       "      <th>115</th>\n",
       "      <td>Nguyễn Doãn Tùng Lâm</td>\n",
       "      <td>Đã và đang là thành viên CLB Tiếng Anh ITEC vi...</td>\n",
       "      <td>Có ! Vì em cho rằng làm quen những người bạn m...</td>\n",
       "      <td>Nhập môn</td>\n",
       "      <td>Do không thể tìm lại toàn bộ file ghi plan nên...</td>\n",
       "    </tr>\n",
       "    <tr>\n",
       "      <th>116</th>\n",
       "      <td>Tạ Hữu Bình</td>\n",
       "      <td>Mình làm phó ban Học tập và Nghiên cứu khoa họ...</td>\n",
       "      <td>Mình mong được làm quen, hơp tác với mọi người...</td>\n",
       "      <td>Bình thường</td>\n",
       "      <td>Mình thường quản lý công việc nhóm thông qua e...</td>\n",
       "    </tr>\n",
       "    <tr>\n",
       "      <th>120</th>\n",
       "      <td>Phạm Tuấn Kiệt</td>\n",
       "      <td>- Ủy viên ban chấp hành Chi đoàn Toán 1 (18-21...</td>\n",
       "      <td>Tính cách vốn có của em là vô cùng hòa đồng, t...</td>\n",
       "      <td>Tốt</td>\n",
       "      <td>https://docs.google.com/spreadsheets/d/1HpfiL6...</td>\n",
       "    </tr>\n",
       "    <tr>\n",
       "      <th>123</th>\n",
       "      <td>Nguyễn Hoàng Anh</td>\n",
       "      <td>Bí thư lớp DSAI 01 - K64, \\nMảng trưởng Phong ...</td>\n",
       "      <td>Mình rất thích bắt chuyện với mọi người, mình ...</td>\n",
       "      <td>Tốt</td>\n",
       "      <td>https://drive.google.com/drive/folders/1NCvALt...</td>\n",
       "    </tr>\n",
       "    <tr>\n",
       "      <th>126</th>\n",
       "      <td>Nguyễn Phan Anh</td>\n",
       "      <td>Ở cấp 3 thì mình làm Lớp Phó học tập (bắt đầu ...</td>\n",
       "      <td>Mình chỉ ngại mở lời làm quen với người lạ khi...</td>\n",
       "      <td>Tốt</td>\n",
       "      <td>Gửi các bạn link drive có Plan của mình: https...</td>\n",
       "    </tr>\n",
       "    <tr>\n",
       "      <th>127</th>\n",
       "      <td>Trần Anh Đức</td>\n",
       "      <td>em chưa ạ hic , đây mới là lần đầu em tham gia...</td>\n",
       "      <td>em thấy bản thân em làm quen mọi người khá là ...</td>\n",
       "      <td>Bình thường</td>\n",
       "      <td>https://docs.google.com/document/d/1fecqvawRlE...</td>\n",
       "    </tr>\n",
       "    <tr>\n",
       "      <th>129</th>\n",
       "      <td>Trần Đức Tuấn Kiên</td>\n",
       "      <td>Lớp phó học tập\\nBan nhân sự đội tình nguyện C...</td>\n",
       "      <td>Mối quan hệ là một trong những yếu tố quyết đị...</td>\n",
       "      <td>Bình thường</td>\n",
       "      <td>https://docs.google.com/document/d/1xPUr86G_tL...</td>\n",
       "    </tr>\n",
       "    <tr>\n",
       "      <th>130</th>\n",
       "      <td>Đoàn Thế Vinh</td>\n",
       "      <td>- Em đang là Ủy viên của lớp ở HUST. Ở lớp, em...</td>\n",
       "      <td>- Bản thân em không phải là một người giỏi hòa...</td>\n",
       "      <td>Tốt</td>\n",
       "      <td>https://drive.google.com/drive/folders/1urYYgr...</td>\n",
       "    </tr>\n",
       "  </tbody>\n",
       "</table>\n",
       "</div>"
      ],
      "text/plain": [
       "           1. Bạn tên là    \n",
       "101           Đỗ Duy Hùng  \\\n",
       "104       Đường Minh Quân   \n",
       "105      Nguyễn Quang Duy   \n",
       "106       Nguyễn Anh Luận   \n",
       "107       Trần Quang Phúc   \n",
       "108         Nguyễn Thu Hà   \n",
       "110       Lương Đức Trọng   \n",
       "111        Lưu Minh Thắng   \n",
       "115  Nguyễn Doãn Tùng Lâm   \n",
       "116           Tạ Hữu Bình   \n",
       "120        Phạm Tuấn Kiệt   \n",
       "123      Nguyễn Hoàng Anh   \n",
       "126       Nguyễn Phan Anh   \n",
       "127          Trần Anh Đức   \n",
       "129    Trần Đức Tuấn Kiên   \n",
       "130         Đoàn Thế Vinh   \n",
       "\n",
       "    1. Bạn đã từng làm cán bộ lớp hoặc tham gia các tổ chức, CLB, Đội nào chưa? Vai trò của bạn là gì?   \n",
       "101                                                 vc                                                  \\\n",
       "104  Mình đã từng làm cán bộ lớp, cụ thể là lớp trư...                                                   \n",
       "105                                        Có tham gia                                                   \n",
       "106  Bản thân em đã từng tham gia 2 CLB (1 trong tr...                                                   \n",
       "107  Đã từng làm ở cấp 2. Vai trò lớp trưởng, lớp p...                                                   \n",
       "108  Mình đã từng làm lớp trưởng hồi phổ thông và k...                                                   \n",
       "110  Mình từng làm lớp phó học tập hồi cấp 2 và tha...                                                   \n",
       "111  Em đã từng làm lớp trưởng, cấp 3 em cũng tham ...                                                   \n",
       "115  Đã và đang là thành viên CLB Tiếng Anh ITEC vi...                                                   \n",
       "116  Mình làm phó ban Học tập và Nghiên cứu khoa họ...                                                   \n",
       "120  - Ủy viên ban chấp hành Chi đoàn Toán 1 (18-21...                                                   \n",
       "123  Bí thư lớp DSAI 01 - K64, \\nMảng trưởng Phong ...                                                   \n",
       "126  Ở cấp 3 thì mình làm Lớp Phó học tập (bắt đầu ...                                                   \n",
       "127  em chưa ạ hic , đây mới là lần đầu em tham gia...                                                   \n",
       "129  Lớp phó học tập\\nBan nhân sự đội tình nguyện C...                                                   \n",
       "130  - Em đang là Ủy viên của lớp ở HUST. Ở lớp, em...                                                   \n",
       "\n",
       "    2. Khi ở một môi trường mới, bạn có hòa đồng/chủ động làm quen với những người xung quanh không? Cho chúng mình biết lý do nhé.   \n",
       "101                                            Rất tốt                                                                               \\\n",
       "104  Bản thân mình là một người khá là cởi mở, thíc...                                                                                \n",
       "105                                                 Có                                                                                \n",
       "106  Khi ở một môi trường mới, tất nhiên là em sẽ c...                                                                                \n",
       "107  Có. Vì làm quen với mọi người sẽ giúp việc học...                                                                                \n",
       "108  Mình được đánh giá là một người khá chủ động v...                                                                                \n",
       "110  Ở một môi trường mới, mình luôn muốn làm quen ...                                                                                \n",
       "111  Mọi người nhận xét em là một con người dễ gần ...                                                                                \n",
       "115  Có ! Vì em cho rằng làm quen những người bạn m...                                                                                \n",
       "116  Mình mong được làm quen, hơp tác với mọi người...                                                                                \n",
       "120  Tính cách vốn có của em là vô cùng hòa đồng, t...                                                                                \n",
       "123  Mình rất thích bắt chuyện với mọi người, mình ...                                                                                \n",
       "126  Mình chỉ ngại mở lời làm quen với người lạ khi...                                                                                \n",
       "127  em thấy bản thân em làm quen mọi người khá là ...                                                                                \n",
       "129  Mối quan hệ là một trong những yếu tố quyết đị...                                                                                \n",
       "130  - Bản thân em không phải là một người giỏi hòa...                                                                                \n",
       "\n",
       "    3. Mức thành thạo tin học văn phòng (Word, Excel,...)   \n",
       "101                                                Tốt     \\\n",
       "104                                        Bình thường      \n",
       "105                                                Tốt      \n",
       "106                                           Nhập môn      \n",
       "107                                        Bình thường      \n",
       "108                                                Tốt      \n",
       "110                                                Tốt      \n",
       "111                                        Bình thường      \n",
       "115                                           Nhập môn      \n",
       "116                                        Bình thường      \n",
       "120                                                Tốt      \n",
       "123                                                Tốt      \n",
       "126                                                Tốt      \n",
       "127                                        Bình thường      \n",
       "129                                        Bình thường      \n",
       "130                                                Tốt      \n",
       "\n",
       "           4. Link một Plan/MasterPlan bạn đã từng làm  \n",
       "101                                                 vc  \n",
       "104  https://docs.google.com/spreadsheets/d/13UPSeA...  \n",
       "105                   Thành viên giúp b trong lop cntt  \n",
       "106  https://docs.google.com/spreadsheets/d/1oaqyjw...  \n",
       "107  Đã từng cùng một nhóm bạn thành lập câu lạc bộ...  \n",
       "108  Mình chưa từng viết Plan/MasterPlan nhưng sẵn ...  \n",
       "110  các plan mình đã tham gia không lưu dưới dạng ...  \n",
       "111  Em chưa có tham gia các Plan/MasterPlan về CNT...  \n",
       "115  Do không thể tìm lại toàn bộ file ghi plan nên...  \n",
       "116  Mình thường quản lý công việc nhóm thông qua e...  \n",
       "120  https://docs.google.com/spreadsheets/d/1HpfiL6...  \n",
       "123  https://drive.google.com/drive/folders/1NCvALt...  \n",
       "126  Gửi các bạn link drive có Plan của mình: https...  \n",
       "127  https://docs.google.com/document/d/1fecqvawRlE...  \n",
       "129  https://docs.google.com/document/d/1xPUr86G_tL...  \n",
       "130  https://drive.google.com/drive/folders/1urYYgr...  "
      ]
     },
     "execution_count": 35,
     "metadata": {},
     "output_type": "execute_result"
    }
   ],
   "source": [
    "excel_data_df.loc[ssmc_fcm.pred_labels[1]].iloc[:, [1, 18, 19, 20, 21]]"
   ]
  },
  {
   "cell_type": "code",
   "execution_count": 36,
   "metadata": {},
   "outputs": [
    {
     "data": {
      "text/html": [
       "<div>\n",
       "<style scoped>\n",
       "    .dataframe tbody tr th:only-of-type {\n",
       "        vertical-align: middle;\n",
       "    }\n",
       "\n",
       "    .dataframe tbody tr th {\n",
       "        vertical-align: top;\n",
       "    }\n",
       "\n",
       "    .dataframe thead th {\n",
       "        text-align: right;\n",
       "    }\n",
       "</style>\n",
       "<table border=\"1\" class=\"dataframe\">\n",
       "  <thead>\n",
       "    <tr style=\"text-align: right;\">\n",
       "      <th></th>\n",
       "      <th>1. Bạn tên là</th>\n",
       "      <th>1. Bạn đã từng làm cán bộ lớp hoặc tham gia các tổ chức, CLB, Đội nào chưa? Vai trò của bạn là gì?</th>\n",
       "      <th>2. Khi ở một môi trường mới, bạn có hòa đồng/chủ động làm quen với những người xung quanh không? Cho chúng mình biết lý do nhé.</th>\n",
       "      <th>3. Mức thành thạo tin học văn phòng (Word, Excel,...)</th>\n",
       "      <th>4. Link một Plan/MasterPlan bạn đã từng làm</th>\n",
       "    </tr>\n",
       "  </thead>\n",
       "  <tbody>\n",
       "    <tr>\n",
       "      <th>103</th>\n",
       "      <td>Nguyễn Nam Hải</td>\n",
       "      <td>Em đã từng giữ chức Lớp trưởng năm cấp 2 và Tổ...</td>\n",
       "      <td>Ban đầu, khi mới gặp mặt, em thường ít giao ti...</td>\n",
       "      <td>Bình thường</td>\n",
       "      <td></td>\n",
       "    </tr>\n",
       "    <tr>\n",
       "      <th>109</th>\n",
       "      <td>Kim Ngọc Chung</td>\n",
       "      <td>Em có ạ, em từng là lớp trưởng và đang là thàn...</td>\n",
       "      <td>em muốn làm quen những người xung quanh vì muố...</td>\n",
       "      <td>Nhập môn</td>\n",
       "      <td>em chưa có ạ</td>\n",
       "    </tr>\n",
       "    <tr>\n",
       "      <th>112</th>\n",
       "      <td>Nguyễn Thị Hồng Loan</td>\n",
       "      <td>Em đã từng làm lớp phó 3 năm nhưng mà là cấp 2...</td>\n",
       "      <td>Em là một người khá rụt rè và khó thích ứng vớ...</td>\n",
       "      <td>Bình thường</td>\n",
       "      <td>chưa có ạ</td>\n",
       "    </tr>\n",
       "    <tr>\n",
       "      <th>113</th>\n",
       "      <td>Trần Thanh Trường</td>\n",
       "      <td>Mình đã từng tham gia ban thanh niên tình nguy...</td>\n",
       "      <td>Bản thân mình là một người khá là hòa đồng và ...</td>\n",
       "      <td>Nhập môn</td>\n",
       "      <td></td>\n",
       "    </tr>\n",
       "    <tr>\n",
       "      <th>114</th>\n",
       "      <td>Nguyễn Minh Tú</td>\n",
       "      <td>Hiện tại, em đã tham gia và đang là tình nguyệ...</td>\n",
       "      <td>Trong môi trường mới, em luôn cố gắng làm quen...</td>\n",
       "      <td>Tốt</td>\n",
       "      <td></td>\n",
       "    </tr>\n",
       "    <tr>\n",
       "      <th>117</th>\n",
       "      <td>Đỗ Thị Ngọc Anh</td>\n",
       "      <td>- Lớp trưởng lớp đại học\\n- Phó ban tài chính ...</td>\n",
       "      <td>Khi ở một môi trường mới tôi thấy bản thân mìn...</td>\n",
       "      <td>Nhập môn</td>\n",
       "      <td></td>\n",
       "    </tr>\n",
       "    <tr>\n",
       "      <th>118</th>\n",
       "      <td>Nguyễn Xuân Phong</td>\n",
       "      <td>Hồi cấp 3 có làm bí thư hồi lớp 10</td>\n",
       "      <td>Có, theo mình thì truyền đi năng lượng tích cự...</td>\n",
       "      <td>Bình thường</td>\n",
       "      <td></td>\n",
       "    </tr>\n",
       "    <tr>\n",
       "      <th>119</th>\n",
       "      <td>Nguyễn Tiến Đức</td>\n",
       "      <td>Em đang làm cán bộ lớp</td>\n",
       "      <td>Dạ em sẽ chủ động làm quen với người mới, bởi ...</td>\n",
       "      <td>Bình thường</td>\n",
       "      <td></td>\n",
       "    </tr>\n",
       "    <tr>\n",
       "      <th>122</th>\n",
       "      <td>Lê Đức Anh</td>\n",
       "      <td>Mình đã tham gia Đội tình nguyện hội sinh viên...</td>\n",
       "      <td>Ở một môi trường mới thì mình luôn chủ động là...</td>\n",
       "      <td>Bình thường</td>\n",
       "      <td>Hiện tại thì mình chưa có plan nào ạ</td>\n",
       "    </tr>\n",
       "    <tr>\n",
       "      <th>124</th>\n",
       "      <td>Hoàng Thị Hằng</td>\n",
       "      <td>Bí thư+lớp trưởng</td>\n",
       "      <td>Nếu cảm thấy quý sẽ chủ động làm quen</td>\n",
       "      <td>Bình thường</td>\n",
       "      <td></td>\n",
       "    </tr>\n",
       "    <tr>\n",
       "      <th>128</th>\n",
       "      <td>Vũ Đình Bách</td>\n",
       "      <td>đã từng tham gia trại hè toán và ứng dụng tin ...</td>\n",
       "      <td>mình rất hòa đồng với mọi người</td>\n",
       "      <td>Bình thường</td>\n",
       "      <td>mình chưa gặp ai là master plan hoặc giờ mình ...</td>\n",
       "    </tr>\n",
       "  </tbody>\n",
       "</table>\n",
       "</div>"
      ],
      "text/plain": [
       "           1. Bạn tên là    \n",
       "103        Nguyễn Nam Hải  \\\n",
       "109        Kim Ngọc Chung   \n",
       "112  Nguyễn Thị Hồng Loan   \n",
       "113     Trần Thanh Trường   \n",
       "114        Nguyễn Minh Tú   \n",
       "117      Đỗ Thị Ngọc Anh    \n",
       "118     Nguyễn Xuân Phong   \n",
       "119       Nguyễn Tiến Đức   \n",
       "122           Lê Đức Anh    \n",
       "124       Hoàng Thị Hằng    \n",
       "128          Vũ Đình Bách   \n",
       "\n",
       "    1. Bạn đã từng làm cán bộ lớp hoặc tham gia các tổ chức, CLB, Đội nào chưa? Vai trò của bạn là gì?   \n",
       "103  Em đã từng giữ chức Lớp trưởng năm cấp 2 và Tổ...                                                  \\\n",
       "109  Em có ạ, em từng là lớp trưởng và đang là thàn...                                                   \n",
       "112  Em đã từng làm lớp phó 3 năm nhưng mà là cấp 2...                                                   \n",
       "113  Mình đã từng tham gia ban thanh niên tình nguy...                                                   \n",
       "114  Hiện tại, em đã tham gia và đang là tình nguyệ...                                                   \n",
       "117  - Lớp trưởng lớp đại học\\n- Phó ban tài chính ...                                                   \n",
       "118                 Hồi cấp 3 có làm bí thư hồi lớp 10                                                   \n",
       "119                             Em đang làm cán bộ lớp                                                   \n",
       "122  Mình đã tham gia Đội tình nguyện hội sinh viên...                                                   \n",
       "124                                 Bí thư+lớp trưởng                                                    \n",
       "128  đã từng tham gia trại hè toán và ứng dụng tin ...                                                   \n",
       "\n",
       "    2. Khi ở một môi trường mới, bạn có hòa đồng/chủ động làm quen với những người xung quanh không? Cho chúng mình biết lý do nhé.   \n",
       "103  Ban đầu, khi mới gặp mặt, em thường ít giao ti...                                                                               \\\n",
       "109  em muốn làm quen những người xung quanh vì muố...                                                                                \n",
       "112  Em là một người khá rụt rè và khó thích ứng vớ...                                                                                \n",
       "113  Bản thân mình là một người khá là hòa đồng và ...                                                                                \n",
       "114  Trong môi trường mới, em luôn cố gắng làm quen...                                                                                \n",
       "117  Khi ở một môi trường mới tôi thấy bản thân mìn...                                                                                \n",
       "118  Có, theo mình thì truyền đi năng lượng tích cự...                                                                                \n",
       "119  Dạ em sẽ chủ động làm quen với người mới, bởi ...                                                                                \n",
       "122  Ở một môi trường mới thì mình luôn chủ động là...                                                                                \n",
       "124              Nếu cảm thấy quý sẽ chủ động làm quen                                                                                \n",
       "128                    mình rất hòa đồng với mọi người                                                                                \n",
       "\n",
       "    3. Mức thành thạo tin học văn phòng (Word, Excel,...)   \n",
       "103                                        Bình thường     \\\n",
       "109                                           Nhập môn      \n",
       "112                                        Bình thường      \n",
       "113                                           Nhập môn      \n",
       "114                                                Tốt      \n",
       "117                                           Nhập môn      \n",
       "118                                        Bình thường      \n",
       "119                                        Bình thường      \n",
       "122                                        Bình thường      \n",
       "124                                        Bình thường      \n",
       "128                                        Bình thường      \n",
       "\n",
       "           4. Link một Plan/MasterPlan bạn đã từng làm  \n",
       "103                                                     \n",
       "109                                       em chưa có ạ  \n",
       "112                                          chưa có ạ  \n",
       "113                                                     \n",
       "114                                                     \n",
       "117                                                     \n",
       "118                                                     \n",
       "119                                                     \n",
       "122               Hiện tại thì mình chưa có plan nào ạ  \n",
       "124                                                     \n",
       "128  mình chưa gặp ai là master plan hoặc giờ mình ...  "
      ]
     },
     "execution_count": 36,
     "metadata": {},
     "output_type": "execute_result"
    }
   ],
   "source": [
    "excel_data_df.loc[ssmc_fcm.pred_labels[2]].iloc[:, [1, 18, 19, 20, 21]]"
   ]
  }
 ],
 "metadata": {
  "kernelspec": {
   "display_name": "Python 3.8.14 64-bit",
   "language": "python",
   "name": "python3"
  },
  "language_info": {
   "codemirror_mode": {
    "name": "ipython",
    "version": 3
   },
   "file_extension": ".py",
   "mimetype": "text/x-python",
   "name": "python",
   "nbconvert_exporter": "python",
   "pygments_lexer": "ipython3",
   "version": "3.8.16"
  },
  "orig_nbformat": 4,
  "vscode": {
   "interpreter": {
    "hash": "e7370f93d1d0cde622a1f8e1c04877d8463912d04d973331ad4851f04de6915a"
   }
  }
 },
 "nbformat": 4,
 "nbformat_minor": 2
}
